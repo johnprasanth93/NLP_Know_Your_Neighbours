{
  "nbformat": 4,
  "nbformat_minor": 0,
  "metadata": {
    "colab": {
      "name": "Know_Your_Neighbourhood",
      "provenance": [],
      "collapsed_sections": [],
      "authorship_tag": "ABX9TyMHkSkpk45JkjwknOE4M2y0",
      "include_colab_link": true
    },
    "kernelspec": {
      "name": "python3",
      "display_name": "Python 3"
    }
  },
  "cells": [
    {
      "cell_type": "markdown",
      "metadata": {
        "id": "view-in-github",
        "colab_type": "text"
      },
      "source": [
        "<a href=\"https://colab.research.google.com/github/johnprasanth93/NLP_Know_Your_Neighbours/blob/master/Know_Your_Neighbourhood_Task_1_AuthenticOrNot.ipynb\" target=\"_parent\"><img src=\"https://colab.research.google.com/assets/colab-badge.svg\" alt=\"Open In Colab\"/></a>"
      ]
    },
    {
      "cell_type": "markdown",
      "metadata": {
        "id": "2LWOBvstvO0k",
        "colab_type": "text"
      },
      "source": [
        "## Creating Twitter credentials JSON"
      ]
    },
    {
      "cell_type": "code",
      "metadata": {
        "id": "HnaizJNXsM0y",
        "colab_type": "code",
        "colab": {}
      },
      "source": [
        "import json"
      ],
      "execution_count": null,
      "outputs": []
    },
    {
      "cell_type": "code",
      "metadata": {
        "id": "kh-aLSmtsTIC",
        "colab_type": "code",
        "colab": {}
      },
      "source": [
        "credentials = {\n",
        "    'API_key' : 'REPLACE_IT_WITH_CREDENTIALS',\n",
        "    'API_secret_key' :'REPLACE_IT_WITH_CREDENTIALS',\n",
        "    'Access_token' : 'REPLACE_IT_WITH_CREDENTIALS-R4wED15V1ehBWhEtcOBPE5yJgticTse',\n",
        "    'Access_token_secret' : 'REPLACE_IT_WITH_CREDENTIALS'\n",
        "}"
      ],
      "execution_count": null,
      "outputs": []
    },
    {
      "cell_type": "code",
      "metadata": {
        "id": "-C-j95zcu15w",
        "colab_type": "code",
        "colab": {}
      },
      "source": [
        "with open('twitter_cred.json','w') as fp:\n",
        "  json.dump(credentials,fp,indent=2)"
      ],
      "execution_count": null,
      "outputs": []
    },
    {
      "cell_type": "markdown",
      "metadata": {
        "id": "DOYJku5qvTCi",
        "colab_type": "text"
      },
      "source": [
        "## Loading Twitter Credentials"
      ]
    },
    {
      "cell_type": "code",
      "metadata": {
        "id": "z6FlhnC7vHQj",
        "colab_type": "code",
        "colab": {
          "resources": {
            "http://localhost:8080/nbextensions/google.colab/files.js": {
              "data": "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",
              "ok": true,
              "headers": [
                [
                  "content-type",
                  "application/javascript"
                ]
              ],
              "status": 200,
              "status_text": ""
            }
          },
          "base_uri": "https://localhost:8080/",
          "height": 139
        },
        "outputId": "09f97648-4405-4815-b0ec-7ee00185f66e"
      },
      "source": [
        "from google.colab import files\n",
        "\n",
        "uploaded = files.upload()\n",
        "\n",
        "for fn in uploaded.keys():\n",
        "  print('User uploaded file \"{name}\" with length {length} bytes'.format(\n",
        "      name=fn, length=len(uploaded[fn])))"
      ],
      "execution_count": null,
      "outputs": [
        {
          "output_type": "display_data",
          "data": {
            "text/html": [
              "\n",
              "     <input type=\"file\" id=\"files-7d530fbb-b2cf-489a-920b-c260eadec9f5\" name=\"files[]\" multiple disabled />\n",
              "     <output id=\"result-7d530fbb-b2cf-489a-920b-c260eadec9f5\">\n",
              "      Upload widget is only available when the cell has been executed in the\n",
              "      current browser session. Please rerun this cell to enable.\n",
              "      </output>\n",
              "      <script src=\"/nbextensions/google.colab/files.js\"></script> "
            ],
            "text/plain": [
              "<IPython.core.display.HTML object>"
            ]
          },
          "metadata": {
            "tags": []
          }
        },
        {
          "output_type": "stream",
          "text": [
            "Saving banglore_tweets.txt to banglore_tweets.txt\n",
            "Saving indian_express_news.txt to indian_express_news.txt\n",
            "User uploaded file \"banglore_tweets.txt\" with length 13143 bytes\n",
            "User uploaded file \"indian_express_news.txt\" with length 4212 bytes\n"
          ],
          "name": "stdout"
        }
      ]
    },
    {
      "cell_type": "markdown",
      "metadata": {
        "id": "AK5OOQXVvgvT",
        "colab_type": "text"
      },
      "source": [
        "## Tweepy scrapper"
      ]
    },
    {
      "cell_type": "code",
      "metadata": {
        "id": "t8grgkZavZ5w",
        "colab_type": "code",
        "colab": {}
      },
      "source": [
        "import tweepy"
      ],
      "execution_count": null,
      "outputs": []
    },
    {
      "cell_type": "code",
      "metadata": {
        "id": "VPIerhZivkNO",
        "colab_type": "code",
        "colab": {}
      },
      "source": [
        "auth = tweepy.OAuthHandler(credentials['API_key'], credentials['API_secret_key'])\n",
        "auth.set_access_token(credentials['Access_token'], credentials['Access_token_secret'])"
      ],
      "execution_count": null,
      "outputs": []
    },
    {
      "cell_type": "code",
      "metadata": {
        "id": "cucnLRMYzqxh",
        "colab_type": "code",
        "colab": {
          "base_uri": "https://localhost:8080/",
          "height": 34
        },
        "outputId": "7fd53fb8-d77f-43fb-c5a3-3f61bef7f313"
      },
      "source": [
        "auth"
      ],
      "execution_count": null,
      "outputs": [
        {
          "output_type": "execute_result",
          "data": {
            "text/plain": [
              "<tweepy.auth.OAuthHandler at 0x7fb5fb900ba8>"
            ]
          },
          "metadata": {
            "tags": []
          },
          "execution_count": 14
        }
      ]
    },
    {
      "cell_type": "code",
      "metadata": {
        "id": "PBHNsaGkzeoA",
        "colab_type": "code",
        "colab": {}
      },
      "source": [
        "api = tweepy.API(auth)"
      ],
      "execution_count": null,
      "outputs": []
    },
    {
      "cell_type": "code",
      "metadata": {
        "id": "ehlLLJ_T0BKK",
        "colab_type": "code",
        "colab": {
          "base_uri": "https://localhost:8080/",
          "height": 34
        },
        "outputId": "e16b515f-fe7d-4b22-9382-94ad1bbb2a80"
      },
      "source": [
        "api"
      ],
      "execution_count": null,
      "outputs": [
        {
          "output_type": "execute_result",
          "data": {
            "text/plain": [
              "<tweepy.api.API at 0x7fb5fb948a58>"
            ]
          },
          "metadata": {
            "tags": []
          },
          "execution_count": 16
        }
      ]
    },
    {
      "cell_type": "code",
      "metadata": {
        "id": "RHVfeWc-0B_C",
        "colab_type": "code",
        "colab": {
          "base_uri": "https://localhost:8080/",
          "height": 1000
        },
        "outputId": "ffb5361e-21fc-479a-f821-5683fc0d5775"
      },
      "source": [
        "# API to collect 50 trending tweets at (Where on Earth ID - WOEID) location #Mumbai\t2295411\n",
        "trending_tweets = api.trends_place(2295411)\n",
        "trending_tweets"
      ],
      "execution_count": null,
      "outputs": [
        {
          "output_type": "execute_result",
          "data": {
            "text/plain": [
              "[{'as_of': '2020-05-20T16:01:27Z',\n",
              "  'created_at': '2020-05-20T15:53:47Z',\n",
              "  'locations': [{'name': 'Mumbai', 'woeid': 2295411}],\n",
              "  'trends': [{'name': 'Nepal',\n",
              "    'promoted_content': None,\n",
              "    'query': 'Nepal',\n",
              "    'tweet_volume': 84845,\n",
              "    'url': 'http://twitter.com/search?q=Nepal'},\n",
              "   {'name': '#HappyBirthdayMohanlal',\n",
              "    'promoted_content': None,\n",
              "    'query': '%23HappyBirthdayMohanlal',\n",
              "    'tweet_volume': 508670,\n",
              "    'url': 'http://twitter.com/search?q=%23HappyBirthdayMohanlal'},\n",
              "   {'name': '#योगी_की_हजार_ट्रेन',\n",
              "    'promoted_content': None,\n",
              "    'query': '%23%E0%A4%AF%E0%A5%8B%E0%A4%97%E0%A5%80_%E0%A4%95%E0%A5%80_%E0%A4%B9%E0%A4%9C%E0%A4%BE%E0%A4%B0_%E0%A4%9F%E0%A5%8D%E0%A4%B0%E0%A5%87%E0%A4%A8',\n",
              "    'tweet_volume': 51564,\n",
              "    'url': 'http://twitter.com/search?q=%23%E0%A4%AF%E0%A5%8B%E0%A4%97%E0%A5%80_%E0%A4%95%E0%A5%80_%E0%A4%B9%E0%A4%9C%E0%A4%BE%E0%A4%B0_%E0%A4%9F%E0%A5%8D%E0%A4%B0%E0%A5%87%E0%A4%A8'},\n",
              "   {'name': '#AmphanSuperCyclone',\n",
              "    'promoted_content': None,\n",
              "    'query': '%23AmphanSuperCyclone',\n",
              "    'tweet_volume': 13417,\n",
              "    'url': 'http://twitter.com/search?q=%23AmphanSuperCyclone'},\n",
              "   {'name': '#Bangalore',\n",
              "    'promoted_content': None,\n",
              "    'query': '%23Bangalore',\n",
              "    'tweet_volume': 23206,\n",
              "    'url': 'http://twitter.com/search?q=%23Bangalore'},\n",
              "   {'name': '#Hinduphobic_Bollywood',\n",
              "    'promoted_content': None,\n",
              "    'query': '%23Hinduphobic_Bollywood',\n",
              "    'tweet_volume': 19065,\n",
              "    'url': 'http://twitter.com/search?q=%23Hinduphobic_Bollywood'},\n",
              "   {'name': 'AGUST D2',\n",
              "    'promoted_content': None,\n",
              "    'query': '%22AGUST+D2%22',\n",
              "    'tweet_volume': 16077,\n",
              "    'url': 'http://twitter.com/search?q=%22AGUST+D2%22'},\n",
              "   {'name': 'Lilly',\n",
              "    'promoted_content': None,\n",
              "    'query': 'Lilly',\n",
              "    'tweet_volume': 15595,\n",
              "    'url': 'http://twitter.com/search?q=Lilly'},\n",
              "   {'name': 'Two BSF',\n",
              "    'promoted_content': None,\n",
              "    'query': '%22Two+BSF%22',\n",
              "    'tweet_volume': None,\n",
              "    'url': 'http://twitter.com/search?q=%22Two+BSF%22'},\n",
              "   {'name': '2 BSF',\n",
              "    'promoted_content': None,\n",
              "    'query': '%222+BSF%22',\n",
              "    'tweet_volume': None,\n",
              "    'url': 'http://twitter.com/search?q=%222+BSF%22'},\n",
              "   {'name': 'Manisha Koirala',\n",
              "    'promoted_content': None,\n",
              "    'query': '%22Manisha+Koirala%22',\n",
              "    'tweet_volume': None,\n",
              "    'url': 'http://twitter.com/search?q=%22Manisha+Koirala%22'},\n",
              "   {'name': 'Lav Agarwal',\n",
              "    'promoted_content': None,\n",
              "    'query': '%22Lav+Agarwal%22',\n",
              "    'tweet_volume': None,\n",
              "    'url': 'http://twitter.com/search?q=%22Lav+Agarwal%22'},\n",
              "   {'name': 'Foreign Secretary',\n",
              "    'promoted_content': None,\n",
              "    'query': '%22Foreign+Secretary%22',\n",
              "    'tweet_volume': None,\n",
              "    'url': 'http://twitter.com/search?q=%22Foreign+Secretary%22'},\n",
              "   {'name': \"India's Fastest Smartphone\",\n",
              "    'promoted_content': None,\n",
              "    'query': '%22India%27s+Fastest+Smartphone%22',\n",
              "    'tweet_volume': None,\n",
              "    'url': 'http://twitter.com/search?q=%22India%27s+Fastest+Smartphone%22'},\n",
              "   {'name': 'Rashmika',\n",
              "    'promoted_content': None,\n",
              "    'query': 'Rashmika',\n",
              "    'tweet_volume': None,\n",
              "    'url': 'http://twitter.com/search?q=Rashmika'},\n",
              "   {'name': 'shad gaspard',\n",
              "    'promoted_content': None,\n",
              "    'query': '%22shad+gaspard%22',\n",
              "    'tweet_volume': 48801,\n",
              "    'url': 'http://twitter.com/search?q=%22shad+gaspard%22'},\n",
              "   {'name': 'Qadr',\n",
              "    'promoted_content': None,\n",
              "    'query': 'Qadr',\n",
              "    'tweet_volume': 36472,\n",
              "    'url': 'http://twitter.com/search?q=Qadr'},\n",
              "   {'name': 'Shabana',\n",
              "    'promoted_content': None,\n",
              "    'query': 'Shabana',\n",
              "    'tweet_volume': None,\n",
              "    'url': 'http://twitter.com/search?q=Shabana'},\n",
              "   {'name': 'Sukhoi 30',\n",
              "    'promoted_content': None,\n",
              "    'query': '%22Sukhoi+30%22',\n",
              "    'tweet_volume': None,\n",
              "    'url': 'http://twitter.com/search?q=%22Sukhoi+30%22'},\n",
              "   {'name': 'Stalking',\n",
              "    'promoted_content': None,\n",
              "    'query': 'Stalking',\n",
              "    'tweet_volume': 15462,\n",
              "    'url': 'http://twitter.com/search?q=Stalking'},\n",
              "   {'name': 'केंद्रीय स्वास्थ्य मंत्री',\n",
              "    'promoted_content': None,\n",
              "    'query': '%22%E0%A4%95%E0%A5%87%E0%A4%82%E0%A4%A6%E0%A5%8D%E0%A4%B0%E0%A5%80%E0%A4%AF+%E0%A4%B8%E0%A5%8D%E0%A4%B5%E0%A4%BE%E0%A4%B8%E0%A5%8D%E0%A4%A5%E0%A5%8D%E0%A4%AF+%E0%A4%AE%E0%A4%82%E0%A4%A4%E0%A5%8D%E0%A4%B0%E0%A5%80%22',\n",
              "    'tweet_volume': None,\n",
              "    'url': 'http://twitter.com/search?q=%22%E0%A4%95%E0%A5%87%E0%A4%82%E0%A4%A6%E0%A5%8D%E0%A4%B0%E0%A5%80%E0%A4%AF+%E0%A4%B8%E0%A5%8D%E0%A4%B5%E0%A4%BE%E0%A4%B8%E0%A5%8D%E0%A4%A5%E0%A5%8D%E0%A4%AF+%E0%A4%AE%E0%A4%82%E0%A4%A4%E0%A5%8D%E0%A4%B0%E0%A5%80%22'},\n",
              "   {'name': 'Ministry Of Civil Aviation',\n",
              "    'promoted_content': None,\n",
              "    'query': '%22Ministry+Of+Civil+Aviation%22',\n",
              "    'tweet_volume': None,\n",
              "    'url': 'http://twitter.com/search?q=%22Ministry+Of+Civil+Aviation%22'},\n",
              "   {'name': '#OpenICTinCBICnow',\n",
              "    'promoted_content': None,\n",
              "    'query': '%23OpenICTinCBICnow',\n",
              "    'tweet_volume': 45968,\n",
              "    'url': 'http://twitter.com/search?q=%23OpenICTinCBICnow'},\n",
              "   {'name': '#CongTrollAbuse',\n",
              "    'promoted_content': None,\n",
              "    'query': '%23CongTrollAbuse',\n",
              "    'tweet_volume': None,\n",
              "    'url': 'http://twitter.com/search?q=%23CongTrollAbuse'},\n",
              "   {'name': '#Aliens',\n",
              "    'promoted_content': None,\n",
              "    'query': '%23Aliens',\n",
              "    'tweet_volume': None,\n",
              "    'url': 'http://twitter.com/search?q=%23Aliens'},\n",
              "   {'name': '#पहले_मानवता_फिर_राजनीति',\n",
              "    'promoted_content': None,\n",
              "    'query': '%23%E0%A4%AA%E0%A4%B9%E0%A4%B2%E0%A5%87_%E0%A4%AE%E0%A4%BE%E0%A4%A8%E0%A4%B5%E0%A4%A4%E0%A4%BE_%E0%A4%AB%E0%A4%BF%E0%A4%B0_%E0%A4%B0%E0%A4%BE%E0%A4%9C%E0%A4%A8%E0%A5%80%E0%A4%A4%E0%A4%BF',\n",
              "    'tweet_volume': 62467,\n",
              "    'url': 'http://twitter.com/search?q=%23%E0%A4%AA%E0%A4%B9%E0%A4%B2%E0%A5%87_%E0%A4%AE%E0%A4%BE%E0%A4%A8%E0%A4%B5%E0%A4%A4%E0%A4%BE_%E0%A4%AB%E0%A4%BF%E0%A4%B0_%E0%A4%B0%E0%A4%BE%E0%A4%9C%E0%A4%A8%E0%A5%80%E0%A4%A4%E0%A4%BF'},\n",
              "   {'name': '#MainBhiSaransh',\n",
              "    'promoted_content': None,\n",
              "    'query': '%23MainBhiSaransh',\n",
              "    'tweet_volume': None,\n",
              "    'url': 'http://twitter.com/search?q=%23MainBhiSaransh'},\n",
              "   {'name': '#sonicboom',\n",
              "    'promoted_content': None,\n",
              "    'query': '%23sonicboom',\n",
              "    'tweet_volume': None,\n",
              "    'url': 'http://twitter.com/search?q=%23sonicboom'},\n",
              "   {'name': '#KnowIslam',\n",
              "    'promoted_content': None,\n",
              "    'query': '%23KnowIslam',\n",
              "    'tweet_volume': 52137,\n",
              "    'url': 'http://twitter.com/search?q=%23KnowIslam'},\n",
              "   {'name': '#Sanvi16',\n",
              "    'promoted_content': None,\n",
              "    'query': '%23Sanvi16',\n",
              "    'tweet_volume': 11532,\n",
              "    'url': 'http://twitter.com/search?q=%23Sanvi16'},\n",
              "   {'name': '#SidNaaziansLoveVG',\n",
              "    'promoted_content': None,\n",
              "    'query': '%23SidNaaziansLoveVG',\n",
              "    'tweet_volume': 104770,\n",
              "    'url': 'http://twitter.com/search?q=%23SidNaaziansLoveVG'},\n",
              "   {'name': '#domesticflights',\n",
              "    'promoted_content': None,\n",
              "    'query': '%23domesticflights',\n",
              "    'tweet_volume': None,\n",
              "    'url': 'http://twitter.com/search?q=%23domesticflights'},\n",
              "   {'name': '#HuPanCoronaWarrior',\n",
              "    'promoted_content': None,\n",
              "    'query': '%23HuPanCoronaWarrior',\n",
              "    'tweet_volume': 74412,\n",
              "    'url': 'http://twitter.com/search?q=%23HuPanCoronaWarrior'},\n",
              "   {'name': '#Shab_e_Qadar',\n",
              "    'promoted_content': None,\n",
              "    'query': '%23Shab_e_Qadar',\n",
              "    'tweet_volume': None,\n",
              "    'url': 'http://twitter.com/search?q=%23Shab_e_Qadar'},\n",
              "   {'name': '#Blogchatter',\n",
              "    'promoted_content': None,\n",
              "    'query': '%23Blogchatter',\n",
              "    'tweet_volume': None,\n",
              "    'url': 'http://twitter.com/search?q=%23Blogchatter'},\n",
              "   {'name': '#iQOOJumble',\n",
              "    'promoted_content': None,\n",
              "    'query': '%23iQOOJumble',\n",
              "    'tweet_volume': None,\n",
              "    'url': 'http://twitter.com/search?q=%23iQOOJumble'},\n",
              "   {'name': '#WaitingForPSPKRampage',\n",
              "    'promoted_content': None,\n",
              "    'query': '%23WaitingForPSPKRampage',\n",
              "    'tweet_volume': 151959,\n",
              "    'url': 'http://twitter.com/search?q=%23WaitingForPSPKRampage'},\n",
              "   {'name': '#1YearOfTirupurSouthSFC',\n",
              "    'promoted_content': None,\n",
              "    'query': '%231YearOfTirupurSouthSFC',\n",
              "    'tweet_volume': None,\n",
              "    'url': 'http://twitter.com/search?q=%231YearOfTirupurSouthSFC'},\n",
              "   {'name': '#बिहार_मांगे_रोजगार',\n",
              "    'promoted_content': None,\n",
              "    'query': '%23%E0%A4%AC%E0%A4%BF%E0%A4%B9%E0%A4%BE%E0%A4%B0_%E0%A4%AE%E0%A4%BE%E0%A4%82%E0%A4%97%E0%A5%87_%E0%A4%B0%E0%A5%8B%E0%A4%9C%E0%A4%97%E0%A4%BE%E0%A4%B0',\n",
              "    'tweet_volume': None,\n",
              "    'url': 'http://twitter.com/search?q=%23%E0%A4%AC%E0%A4%BF%E0%A4%B9%E0%A4%BE%E0%A4%B0_%E0%A4%AE%E0%A4%BE%E0%A4%82%E0%A4%97%E0%A5%87_%E0%A4%B0%E0%A5%8B%E0%A4%9C%E0%A4%97%E0%A4%BE%E0%A4%B0'},\n",
              "   {'name': '#Govt_Disgracing_Babasaheb',\n",
              "    'promoted_content': None,\n",
              "    'query': '%23Govt_Disgracing_Babasaheb',\n",
              "    'tweet_volume': 69827,\n",
              "    'url': 'http://twitter.com/search?q=%23Govt_Disgracing_Babasaheb'},\n",
              "   {'name': '#indiatakesoff',\n",
              "    'promoted_content': None,\n",
              "    'query': '%23indiatakesoff',\n",
              "    'tweet_volume': None,\n",
              "    'url': 'http://twitter.com/search?q=%23indiatakesoff'},\n",
              "   {'name': '#SWAYAMSAINIKDAL_INDIA',\n",
              "    'promoted_content': None,\n",
              "    'query': '%23SWAYAMSAINIKDAL_INDIA',\n",
              "    'tweet_volume': 69251,\n",
              "    'url': 'http://twitter.com/search?q=%23SWAYAMSAINIKDAL_INDIA'},\n",
              "   {'name': '#108MPIsHere',\n",
              "    'promoted_content': None,\n",
              "    'query': '%23108MPIsHere',\n",
              "    'tweet_volume': None,\n",
              "    'url': 'http://twitter.com/search?q=%23108MPIsHere'},\n",
              "   {'name': '#Mirage2000',\n",
              "    'promoted_content': None,\n",
              "    'query': '%23Mirage2000',\n",
              "    'tweet_volume': None,\n",
              "    'url': 'http://twitter.com/search?q=%23Mirage2000'},\n",
              "   {'name': '#bharatkiawaaz',\n",
              "    'promoted_content': None,\n",
              "    'query': '%23bharatkiawaaz',\n",
              "    'tweet_volume': 13102,\n",
              "    'url': 'http://twitter.com/search?q=%23bharatkiawaaz'},\n",
              "   {'name': '#AditiSingh',\n",
              "    'promoted_content': None,\n",
              "    'query': '%23AditiSingh',\n",
              "    'tweet_volume': None,\n",
              "    'url': 'http://twitter.com/search?q=%23AditiSingh'},\n",
              "   {'name': '#BattleAgainstSMA',\n",
              "    'promoted_content': None,\n",
              "    'query': '%23BattleAgainstSMA',\n",
              "    'tweet_volume': None,\n",
              "    'url': 'http://twitter.com/search?q=%23BattleAgainstSMA'},\n",
              "   {'name': '#RebuildNawakadal',\n",
              "    'promoted_content': None,\n",
              "    'query': '%23RebuildNawakadal',\n",
              "    'tweet_volume': None,\n",
              "    'url': 'http://twitter.com/search?q=%23RebuildNawakadal'},\n",
              "   {'name': '#Future_Of_TEQIP_Faculties',\n",
              "    'promoted_content': None,\n",
              "    'query': '%23Future_Of_TEQIP_Faculties',\n",
              "    'tweet_volume': None,\n",
              "    'url': 'http://twitter.com/search?q=%23Future_Of_TEQIP_Faculties'},\n",
              "   {'name': '#dinosaur',\n",
              "    'promoted_content': None,\n",
              "    'query': '%23dinosaur',\n",
              "    'tweet_volume': None,\n",
              "    'url': 'http://twitter.com/search?q=%23dinosaur'}]}]"
            ]
          },
          "metadata": {
            "tags": []
          },
          "execution_count": 17
        }
      ]
    },
    {
      "cell_type": "code",
      "metadata": {
        "id": "e1gOsyTy2KvY",
        "colab_type": "code",
        "colab": {}
      },
      "source": [
        "with open('trending_topics.json','w') as fp:\n",
        "  json.dump(trending_tweets,fp,indent=4)"
      ],
      "execution_count": null,
      "outputs": []
    },
    {
      "cell_type": "code",
      "metadata": {
        "id": "RPCJKqDy345r",
        "colab_type": "code",
        "colab": {}
      },
      "source": [
        "# Trigger API to collect tweets about Banglore earthquake\n",
        "keyword = '%23Bangalore'\n",
        "tweets = api.search(q=keyword,count=100,lang='en')"
      ],
      "execution_count": null,
      "outputs": []
    },
    {
      "cell_type": "code",
      "metadata": {
        "id": "bfL_mTui48us",
        "colab_type": "code",
        "colab": {
          "base_uri": "https://localhost:8080/",
          "height": 54
        },
        "outputId": "e5e4fe3a-318d-4b9d-d8a8-fd5c64ed49ec"
      },
      "source": [
        "tweets[0]"
      ],
      "execution_count": null,
      "outputs": [
        {
          "output_type": "execute_result",
          "data": {
            "text/plain": [
              "Status(_api=<tweepy.api.API object at 0x7fb5fb948a58>, _json={'created_at': 'Wed May 20 16:22:43 +0000 2020', 'id': 1263143122286059521, 'id_str': '1263143122286059521', 'text': 'RT @beingbbt: Natural Disaster Management has said that it happens due to the vaccum of hot and cold air during the storm conditions. \\nSadl…', 'truncated': False, 'entities': {'hashtags': [], 'symbols': [], 'user_mentions': [{'screen_name': 'beingbbt', 'name': 'BB Baba', 'id': 2313199909, 'id_str': '2313199909', 'indices': [3, 12]}], 'urls': []}, 'metadata': {'iso_language_code': 'en', 'result_type': 'recent'}, 'source': '<a href=\"http://twitter.com/download/android\" rel=\"nofollow\">Twitter for Android</a>', 'in_reply_to_status_id': None, 'in_reply_to_status_id_str': None, 'in_reply_to_user_id': None, 'in_reply_to_user_id_str': None, 'in_reply_to_screen_name': None, 'user': {'id': 1158322435470422017, 'id_str': '1158322435470422017', 'name': 'Nikita', 'screen_name': 'heynikita_', 'location': 'Pune, India', 'description': 'A freelance model, an IT Girl, Reader & Chess Player. Always staying positive :)', 'url': None, 'entities': {'description': {'urls': []}}, 'protected': False, 'followers_count': 59, 'friends_count': 37, 'listed_count': 0, 'created_at': 'Mon Aug 05 10:22:44 +0000 2019', 'favourites_count': 1753, 'utc_offset': None, 'time_zone': None, 'geo_enabled': False, 'verified': False, 'statuses_count': 192, 'lang': None, 'contributors_enabled': False, 'is_translator': False, 'is_translation_enabled': False, 'profile_background_color': 'F5F8FA', 'profile_background_image_url': None, 'profile_background_image_url_https': None, 'profile_background_tile': False, 'profile_image_url': 'http://pbs.twimg.com/profile_images/1260959428733435904/mAAUmHT9_normal.jpg', 'profile_image_url_https': 'https://pbs.twimg.com/profile_images/1260959428733435904/mAAUmHT9_normal.jpg', 'profile_banner_url': 'https://pbs.twimg.com/profile_banners/1158322435470422017/1589475065', 'profile_link_color': '1DA1F2', 'profile_sidebar_border_color': 'C0DEED', 'profile_sidebar_fill_color': 'DDEEF6', 'profile_text_color': '333333', 'profile_use_background_image': True, 'has_extended_profile': False, 'default_profile': True, 'default_profile_image': False, 'following': False, 'follow_request_sent': False, 'notifications': False, 'translator_type': 'none'}, 'geo': None, 'coordinates': None, 'place': None, 'contributors': None, 'retweeted_status': {'created_at': 'Wed May 20 15:36:09 +0000 2020', 'id': 1263131403312644096, 'id_str': '1263131403312644096', 'text': 'Natural Disaster Management has said that it happens due to the vaccum of hot and cold air during the storm conditi… https://t.co/PpsZojNN38', 'truncated': True, 'entities': {'hashtags': [], 'symbols': [], 'user_mentions': [], 'urls': [{'url': 'https://t.co/PpsZojNN38', 'expanded_url': 'https://twitter.com/i/web/status/1263131403312644096', 'display_url': 'twitter.com/i/web/status/1…', 'indices': [117, 140]}]}, 'metadata': {'iso_language_code': 'en', 'result_type': 'recent'}, 'source': '<a href=\"http://twitter.com/download/android\" rel=\"nofollow\">Twitter for Android</a>', 'in_reply_to_status_id': None, 'in_reply_to_status_id_str': None, 'in_reply_to_user_id': None, 'in_reply_to_user_id_str': None, 'in_reply_to_screen_name': None, 'user': {'id': 2313199909, 'id_str': '2313199909', 'name': 'BB Baba', 'screen_name': 'beingbbt', 'location': 'Gujarat, India', 'description': 'Photography | Graphic Design | Travelling | Writing | Fitness |  Sketching | Motivator | Political Observer', 'url': None, 'entities': {'description': {'urls': []}}, 'protected': False, 'followers_count': 365, 'friends_count': 184, 'listed_count': 13, 'created_at': 'Mon Jan 27 07:26:21 +0000 2014', 'favourites_count': 3709, 'utc_offset': None, 'time_zone': None, 'geo_enabled': False, 'verified': False, 'statuses_count': 853, 'lang': None, 'contributors_enabled': False, 'is_translator': False, 'is_translation_enabled': False, 'profile_background_color': '709397', 'profile_background_image_url': 'http://abs.twimg.com/images/themes/theme6/bg.gif', 'profile_background_image_url_https': 'https://abs.twimg.com/images/themes/theme6/bg.gif', 'profile_background_tile': False, 'profile_image_url': 'http://pbs.twimg.com/profile_images/1260952124348825600/soyYOPUd_normal.jpg', 'profile_image_url_https': 'https://pbs.twimg.com/profile_images/1260952124348825600/soyYOPUd_normal.jpg', 'profile_banner_url': 'https://pbs.twimg.com/profile_banners/2313199909/1588675263', 'profile_link_color': '1B95E0', 'profile_sidebar_border_color': 'FFFFFF', 'profile_sidebar_fill_color': 'A0C5C7', 'profile_text_color': '333333', 'profile_use_background_image': True, 'has_extended_profile': True, 'default_profile': False, 'default_profile_image': False, 'following': False, 'follow_request_sent': False, 'notifications': False, 'translator_type': 'none'}, 'geo': None, 'coordinates': None, 'place': None, 'contributors': None, 'is_quote_status': False, 'retweet_count': 2, 'favorite_count': 4, 'favorited': False, 'retweeted': False, 'possibly_sensitive': False, 'lang': 'en'}, 'is_quote_status': False, 'retweet_count': 2, 'favorite_count': 0, 'favorited': False, 'retweeted': False, 'lang': 'en'}, created_at=datetime.datetime(2020, 5, 20, 16, 22, 43), id=1263143122286059521, id_str='1263143122286059521', text='RT @beingbbt: Natural Disaster Management has said that it happens due to the vaccum of hot and cold air during the storm conditions. \\nSadl…', truncated=False, entities={'hashtags': [], 'symbols': [], 'user_mentions': [{'screen_name': 'beingbbt', 'name': 'BB Baba', 'id': 2313199909, 'id_str': '2313199909', 'indices': [3, 12]}], 'urls': []}, metadata={'iso_language_code': 'en', 'result_type': 'recent'}, source='Twitter for Android', source_url='http://twitter.com/download/android', in_reply_to_status_id=None, in_reply_to_status_id_str=None, in_reply_to_user_id=None, in_reply_to_user_id_str=None, in_reply_to_screen_name=None, author=User(_api=<tweepy.api.API object at 0x7fb5fb948a58>, _json={'id': 1158322435470422017, 'id_str': '1158322435470422017', 'name': 'Nikita', 'screen_name': 'heynikita_', 'location': 'Pune, India', 'description': 'A freelance model, an IT Girl, Reader & Chess Player. Always staying positive :)', 'url': None, 'entities': {'description': {'urls': []}}, 'protected': False, 'followers_count': 59, 'friends_count': 37, 'listed_count': 0, 'created_at': 'Mon Aug 05 10:22:44 +0000 2019', 'favourites_count': 1753, 'utc_offset': None, 'time_zone': None, 'geo_enabled': False, 'verified': False, 'statuses_count': 192, 'lang': None, 'contributors_enabled': False, 'is_translator': False, 'is_translation_enabled': False, 'profile_background_color': 'F5F8FA', 'profile_background_image_url': None, 'profile_background_image_url_https': None, 'profile_background_tile': False, 'profile_image_url': 'http://pbs.twimg.com/profile_images/1260959428733435904/mAAUmHT9_normal.jpg', 'profile_image_url_https': 'https://pbs.twimg.com/profile_images/1260959428733435904/mAAUmHT9_normal.jpg', 'profile_banner_url': 'https://pbs.twimg.com/profile_banners/1158322435470422017/1589475065', 'profile_link_color': '1DA1F2', 'profile_sidebar_border_color': 'C0DEED', 'profile_sidebar_fill_color': 'DDEEF6', 'profile_text_color': '333333', 'profile_use_background_image': True, 'has_extended_profile': False, 'default_profile': True, 'default_profile_image': False, 'following': False, 'follow_request_sent': False, 'notifications': False, 'translator_type': 'none'}, id=1158322435470422017, id_str='1158322435470422017', name='Nikita', screen_name='heynikita_', location='Pune, India', description='A freelance model, an IT Girl, Reader & Chess Player. Always staying positive :)', url=None, entities={'description': {'urls': []}}, protected=False, followers_count=59, friends_count=37, listed_count=0, created_at=datetime.datetime(2019, 8, 5, 10, 22, 44), favourites_count=1753, utc_offset=None, time_zone=None, geo_enabled=False, verified=False, statuses_count=192, lang=None, contributors_enabled=False, is_translator=False, is_translation_enabled=False, profile_background_color='F5F8FA', profile_background_image_url=None, profile_background_image_url_https=None, profile_background_tile=False, profile_image_url='http://pbs.twimg.com/profile_images/1260959428733435904/mAAUmHT9_normal.jpg', profile_image_url_https='https://pbs.twimg.com/profile_images/1260959428733435904/mAAUmHT9_normal.jpg', profile_banner_url='https://pbs.twimg.com/profile_banners/1158322435470422017/1589475065', profile_link_color='1DA1F2', profile_sidebar_border_color='C0DEED', profile_sidebar_fill_color='DDEEF6', profile_text_color='333333', profile_use_background_image=True, has_extended_profile=False, default_profile=True, default_profile_image=False, following=False, follow_request_sent=False, notifications=False, translator_type='none'), user=User(_api=<tweepy.api.API object at 0x7fb5fb948a58>, _json={'id': 1158322435470422017, 'id_str': '1158322435470422017', 'name': 'Nikita', 'screen_name': 'heynikita_', 'location': 'Pune, India', 'description': 'A freelance model, an IT Girl, Reader & Chess Player. Always staying positive :)', 'url': None, 'entities': {'description': {'urls': []}}, 'protected': False, 'followers_count': 59, 'friends_count': 37, 'listed_count': 0, 'created_at': 'Mon Aug 05 10:22:44 +0000 2019', 'favourites_count': 1753, 'utc_offset': None, 'time_zone': None, 'geo_enabled': False, 'verified': False, 'statuses_count': 192, 'lang': None, 'contributors_enabled': False, 'is_translator': False, 'is_translation_enabled': False, 'profile_background_color': 'F5F8FA', 'profile_background_image_url': None, 'profile_background_image_url_https': None, 'profile_background_tile': False, 'profile_image_url': 'http://pbs.twimg.com/profile_images/1260959428733435904/mAAUmHT9_normal.jpg', 'profile_image_url_https': 'https://pbs.twimg.com/profile_images/1260959428733435904/mAAUmHT9_normal.jpg', 'profile_banner_url': 'https://pbs.twimg.com/profile_banners/1158322435470422017/1589475065', 'profile_link_color': '1DA1F2', 'profile_sidebar_border_color': 'C0DEED', 'profile_sidebar_fill_color': 'DDEEF6', 'profile_text_color': '333333', 'profile_use_background_image': True, 'has_extended_profile': False, 'default_profile': True, 'default_profile_image': False, 'following': False, 'follow_request_sent': False, 'notifications': False, 'translator_type': 'none'}, id=1158322435470422017, id_str='1158322435470422017', name='Nikita', screen_name='heynikita_', location='Pune, India', description='A freelance model, an IT Girl, Reader & Chess Player. Always staying positive :)', url=None, entities={'description': {'urls': []}}, protected=False, followers_count=59, friends_count=37, listed_count=0, created_at=datetime.datetime(2019, 8, 5, 10, 22, 44), favourites_count=1753, utc_offset=None, time_zone=None, geo_enabled=False, verified=False, statuses_count=192, lang=None, contributors_enabled=False, is_translator=False, is_translation_enabled=False, profile_background_color='F5F8FA', profile_background_image_url=None, profile_background_image_url_https=None, profile_background_tile=False, profile_image_url='http://pbs.twimg.com/profile_images/1260959428733435904/mAAUmHT9_normal.jpg', profile_image_url_https='https://pbs.twimg.com/profile_images/1260959428733435904/mAAUmHT9_normal.jpg', profile_banner_url='https://pbs.twimg.com/profile_banners/1158322435470422017/1589475065', profile_link_color='1DA1F2', profile_sidebar_border_color='C0DEED', profile_sidebar_fill_color='DDEEF6', profile_text_color='333333', profile_use_background_image=True, has_extended_profile=False, default_profile=True, default_profile_image=False, following=False, follow_request_sent=False, notifications=False, translator_type='none'), geo=None, coordinates=None, place=None, contributors=None, retweeted_status=Status(_api=<tweepy.api.API object at 0x7fb5fb948a58>, _json={'created_at': 'Wed May 20 15:36:09 +0000 2020', 'id': 1263131403312644096, 'id_str': '1263131403312644096', 'text': 'Natural Disaster Management has said that it happens due to the vaccum of hot and cold air during the storm conditi… https://t.co/PpsZojNN38', 'truncated': True, 'entities': {'hashtags': [], 'symbols': [], 'user_mentions': [], 'urls': [{'url': 'https://t.co/PpsZojNN38', 'expanded_url': 'https://twitter.com/i/web/status/1263131403312644096', 'display_url': 'twitter.com/i/web/status/1…', 'indices': [117, 140]}]}, 'metadata': {'iso_language_code': 'en', 'result_type': 'recent'}, 'source': '<a href=\"http://twitter.com/download/android\" rel=\"nofollow\">Twitter for Android</a>', 'in_reply_to_status_id': None, 'in_reply_to_status_id_str': None, 'in_reply_to_user_id': None, 'in_reply_to_user_id_str': None, 'in_reply_to_screen_name': None, 'user': {'id': 2313199909, 'id_str': '2313199909', 'name': 'BB Baba', 'screen_name': 'beingbbt', 'location': 'Gujarat, India', 'description': 'Photography | Graphic Design | Travelling | Writing | Fitness |  Sketching | Motivator | Political Observer', 'url': None, 'entities': {'description': {'urls': []}}, 'protected': False, 'followers_count': 365, 'friends_count': 184, 'listed_count': 13, 'created_at': 'Mon Jan 27 07:26:21 +0000 2014', 'favourites_count': 3709, 'utc_offset': None, 'time_zone': None, 'geo_enabled': False, 'verified': False, 'statuses_count': 853, 'lang': None, 'contributors_enabled': False, 'is_translator': False, 'is_translation_enabled': False, 'profile_background_color': '709397', 'profile_background_image_url': 'http://abs.twimg.com/images/themes/theme6/bg.gif', 'profile_background_image_url_https': 'https://abs.twimg.com/images/themes/theme6/bg.gif', 'profile_background_tile': False, 'profile_image_url': 'http://pbs.twimg.com/profile_images/1260952124348825600/soyYOPUd_normal.jpg', 'profile_image_url_https': 'https://pbs.twimg.com/profile_images/1260952124348825600/soyYOPUd_normal.jpg', 'profile_banner_url': 'https://pbs.twimg.com/profile_banners/2313199909/1588675263', 'profile_link_color': '1B95E0', 'profile_sidebar_border_color': 'FFFFFF', 'profile_sidebar_fill_color': 'A0C5C7', 'profile_text_color': '333333', 'profile_use_background_image': True, 'has_extended_profile': True, 'default_profile': False, 'default_profile_image': False, 'following': False, 'follow_request_sent': False, 'notifications': False, 'translator_type': 'none'}, 'geo': None, 'coordinates': None, 'place': None, 'contributors': None, 'is_quote_status': False, 'retweet_count': 2, 'favorite_count': 4, 'favorited': False, 'retweeted': False, 'possibly_sensitive': False, 'lang': 'en'}, created_at=datetime.datetime(2020, 5, 20, 15, 36, 9), id=1263131403312644096, id_str='1263131403312644096', text='Natural Disaster Management has said that it happens due to the vaccum of hot and cold air during the storm conditi… https://t.co/PpsZojNN38', truncated=True, entities={'hashtags': [], 'symbols': [], 'user_mentions': [], 'urls': [{'url': 'https://t.co/PpsZojNN38', 'expanded_url': 'https://twitter.com/i/web/status/1263131403312644096', 'display_url': 'twitter.com/i/web/status/1…', 'indices': [117, 140]}]}, metadata={'iso_language_code': 'en', 'result_type': 'recent'}, source='Twitter for Android', source_url='http://twitter.com/download/android', in_reply_to_status_id=None, in_reply_to_status_id_str=None, in_reply_to_user_id=None, in_reply_to_user_id_str=None, in_reply_to_screen_name=None, author=User(_api=<tweepy.api.API object at 0x7fb5fb948a58>, _json={'id': 2313199909, 'id_str': '2313199909', 'name': 'BB Baba', 'screen_name': 'beingbbt', 'location': 'Gujarat, India', 'description': 'Photography | Graphic Design | Travelling | Writing | Fitness |  Sketching | Motivator | Political Observer', 'url': None, 'entities': {'description': {'urls': []}}, 'protected': False, 'followers_count': 365, 'friends_count': 184, 'listed_count': 13, 'created_at': 'Mon Jan 27 07:26:21 +0000 2014', 'favourites_count': 3709, 'utc_offset': None, 'time_zone': None, 'geo_enabled': False, 'verified': False, 'statuses_count': 853, 'lang': None, 'contributors_enabled': False, 'is_translator': False, 'is_translation_enabled': False, 'profile_background_color': '709397', 'profile_background_image_url': 'http://abs.twimg.com/images/themes/theme6/bg.gif', 'profile_background_image_url_https': 'https://abs.twimg.com/images/themes/theme6/bg.gif', 'profile_background_tile': False, 'profile_image_url': 'http://pbs.twimg.com/profile_images/1260952124348825600/soyYOPUd_normal.jpg', 'profile_image_url_https': 'https://pbs.twimg.com/profile_images/1260952124348825600/soyYOPUd_normal.jpg', 'profile_banner_url': 'https://pbs.twimg.com/profile_banners/2313199909/1588675263', 'profile_link_color': '1B95E0', 'profile_sidebar_border_color': 'FFFFFF', 'profile_sidebar_fill_color': 'A0C5C7', 'profile_text_color': '333333', 'profile_use_background_image': True, 'has_extended_profile': True, 'default_profile': False, 'default_profile_image': False, 'following': False, 'follow_request_sent': False, 'notifications': False, 'translator_type': 'none'}, id=2313199909, id_str='2313199909', name='BB Baba', screen_name='beingbbt', location='Gujarat, India', description='Photography | Graphic Design | Travelling | Writing | Fitness |  Sketching | Motivator | Political Observer', url=None, entities={'description': {'urls': []}}, protected=False, followers_count=365, friends_count=184, listed_count=13, created_at=datetime.datetime(2014, 1, 27, 7, 26, 21), favourites_count=3709, utc_offset=None, time_zone=None, geo_enabled=False, verified=False, statuses_count=853, lang=None, contributors_enabled=False, is_translator=False, is_translation_enabled=False, profile_background_color='709397', profile_background_image_url='http://abs.twimg.com/images/themes/theme6/bg.gif', profile_background_image_url_https='https://abs.twimg.com/images/themes/theme6/bg.gif', profile_background_tile=False, profile_image_url='http://pbs.twimg.com/profile_images/1260952124348825600/soyYOPUd_normal.jpg', profile_image_url_https='https://pbs.twimg.com/profile_images/1260952124348825600/soyYOPUd_normal.jpg', profile_banner_url='https://pbs.twimg.com/profile_banners/2313199909/1588675263', profile_link_color='1B95E0', profile_sidebar_border_color='FFFFFF', profile_sidebar_fill_color='A0C5C7', profile_text_color='333333', profile_use_background_image=True, has_extended_profile=True, default_profile=False, default_profile_image=False, following=False, follow_request_sent=False, notifications=False, translator_type='none'), user=User(_api=<tweepy.api.API object at 0x7fb5fb948a58>, _json={'id': 2313199909, 'id_str': '2313199909', 'name': 'BB Baba', 'screen_name': 'beingbbt', 'location': 'Gujarat, India', 'description': 'Photography | Graphic Design | Travelling | Writing | Fitness |  Sketching | Motivator | Political Observer', 'url': None, 'entities': {'description': {'urls': []}}, 'protected': False, 'followers_count': 365, 'friends_count': 184, 'listed_count': 13, 'created_at': 'Mon Jan 27 07:26:21 +0000 2014', 'favourites_count': 3709, 'utc_offset': None, 'time_zone': None, 'geo_enabled': False, 'verified': False, 'statuses_count': 853, 'lang': None, 'contributors_enabled': False, 'is_translator': False, 'is_translation_enabled': False, 'profile_background_color': '709397', 'profile_background_image_url': 'http://abs.twimg.com/images/themes/theme6/bg.gif', 'profile_background_image_url_https': 'https://abs.twimg.com/images/themes/theme6/bg.gif', 'profile_background_tile': False, 'profile_image_url': 'http://pbs.twimg.com/profile_images/1260952124348825600/soyYOPUd_normal.jpg', 'profile_image_url_https': 'https://pbs.twimg.com/profile_images/1260952124348825600/soyYOPUd_normal.jpg', 'profile_banner_url': 'https://pbs.twimg.com/profile_banners/2313199909/1588675263', 'profile_link_color': '1B95E0', 'profile_sidebar_border_color': 'FFFFFF', 'profile_sidebar_fill_color': 'A0C5C7', 'profile_text_color': '333333', 'profile_use_background_image': True, 'has_extended_profile': True, 'default_profile': False, 'default_profile_image': False, 'following': False, 'follow_request_sent': False, 'notifications': False, 'translator_type': 'none'}, id=2313199909, id_str='2313199909', name='BB Baba', screen_name='beingbbt', location='Gujarat, India', description='Photography | Graphic Design | Travelling | Writing | Fitness |  Sketching | Motivator | Political Observer', url=None, entities={'description': {'urls': []}}, protected=False, followers_count=365, friends_count=184, listed_count=13, created_at=datetime.datetime(2014, 1, 27, 7, 26, 21), favourites_count=3709, utc_offset=None, time_zone=None, geo_enabled=False, verified=False, statuses_count=853, lang=None, contributors_enabled=False, is_translator=False, is_translation_enabled=False, profile_background_color='709397', profile_background_image_url='http://abs.twimg.com/images/themes/theme6/bg.gif', profile_background_image_url_https='https://abs.twimg.com/images/themes/theme6/bg.gif', profile_background_tile=False, profile_image_url='http://pbs.twimg.com/profile_images/1260952124348825600/soyYOPUd_normal.jpg', profile_image_url_https='https://pbs.twimg.com/profile_images/1260952124348825600/soyYOPUd_normal.jpg', profile_banner_url='https://pbs.twimg.com/profile_banners/2313199909/1588675263', profile_link_color='1B95E0', profile_sidebar_border_color='FFFFFF', profile_sidebar_fill_color='A0C5C7', profile_text_color='333333', profile_use_background_image=True, has_extended_profile=True, default_profile=False, default_profile_image=False, following=False, follow_request_sent=False, notifications=False, translator_type='none'), geo=None, coordinates=None, place=None, contributors=None, is_quote_status=False, retweet_count=2, favorite_count=4, favorited=False, retweeted=False, possibly_sensitive=False, lang='en'), is_quote_status=False, retweet_count=2, favorite_count=0, favorited=False, retweeted=False, lang='en')"
            ]
          },
          "metadata": {
            "tags": []
          },
          "execution_count": 47
        }
      ]
    },
    {
      "cell_type": "code",
      "metadata": {
        "id": "VOZwFhz25VJh",
        "colab_type": "code",
        "colab": {}
      },
      "source": [
        "# Writing trending tweets into csv file\n",
        "import csv\n",
        "with open('trending_topics.csv', 'w', newline='') as csvfile:\n",
        "    writer = csv.writer(csvfile, delimiter=' ')\n",
        "    for tweet in tweets:\n",
        "      writer.writerow([tweet])"
      ],
      "execution_count": null,
      "outputs": []
    },
    {
      "cell_type": "code",
      "metadata": {
        "id": "6DpFaHiZ0VHD",
        "colab_type": "code",
        "colab": {}
      },
      "source": [
        "#Writing tweets for similarity check\n",
        "with open('banglore_tweets.txt','a') as src_file:\n",
        "  for tweet in tweets:\n",
        "    src_file.write(tweet.text)"
      ],
      "execution_count": null,
      "outputs": []
    },
    {
      "cell_type": "markdown",
      "metadata": {
        "id": "gg4Amnx99v_Q",
        "colab_type": "text"
      },
      "source": [
        "## Scraper to get contents from authentic websites"
      ]
    },
    {
      "cell_type": "code",
      "metadata": {
        "id": "S5hPJxsfWxDm",
        "colab_type": "code",
        "colab": {
          "base_uri": "https://localhost:8080/",
          "height": 105
        },
        "outputId": "3aa6abbc-a32e-4f2d-82e6-e3820fbadf67"
      },
      "source": [
        "!pip install boilerpy3"
      ],
      "execution_count": null,
      "outputs": [
        {
          "output_type": "stream",
          "text": [
            "Collecting boilerpy3\n",
            "  Downloading https://files.pythonhosted.org/packages/c3/45/b04e90a4d39a9709be248f363148e7f82e1cac34a6e9f83e77aa2eb37326/boilerpy3-1.0.2-py3-none-any.whl\n",
            "Installing collected packages: boilerpy3\n",
            "Successfully installed boilerpy3-1.0.2\n"
          ],
          "name": "stdout"
        }
      ]
    },
    {
      "cell_type": "code",
      "metadata": {
        "id": "pDAfZGN59vIu",
        "colab_type": "code",
        "colab": {}
      },
      "source": [
        "from boilerpy3 import extractors\n",
        "import re"
      ],
      "execution_count": null,
      "outputs": []
    },
    {
      "cell_type": "code",
      "metadata": {
        "id": "_ol6AB-K9fEo",
        "colab_type": "code",
        "colab": {}
      },
      "source": [
        "extractor = extractors.CanolaExtractor()\n",
        "\n",
        "doc = extractor.get_doc_from_url('https://indianexpress.com/article/cities/bangalore/bengaluru-loud-sound-police-hul-investigation-6419246/')\n",
        "page_title = doc.title\n",
        "page_contents = doc.content"
      ],
      "execution_count": null,
      "outputs": []
    },
    {
      "cell_type": "code",
      "metadata": {
        "id": "_3-ML5b6Ap4H",
        "colab_type": "code",
        "colab": {}
      },
      "source": [
        "with open('indian_express_news.txt','a') as fp:\n",
        "  fp.write(page_title)\n",
        "  fp.write('\\n\\n')\n",
        "  fp.write(page_contents)"
      ],
      "execution_count": null,
      "outputs": []
    },
    {
      "cell_type": "code",
      "metadata": {
        "id": "BO7q_oz8AR3F",
        "colab_type": "code",
        "colab": {
          "base_uri": "https://localhost:8080/",
          "height": 34
        },
        "outputId": "0393bc75-5cc6-4f1e-8d58-0871036f7a12"
      },
      "source": [
        "print(page_title)"
      ],
      "execution_count": null,
      "outputs": [
        {
          "output_type": "stream",
          "text": [
            "Bengaluru: Police investigating ‘loud sound’; earthquake ruled out | Cities News,The Indian Express\n"
          ],
          "name": "stdout"
        }
      ]
    },
    {
      "cell_type": "markdown",
      "metadata": {
        "id": "LAYrSLPBBvSZ",
        "colab_type": "text"
      },
      "source": [
        "## Preprocessing the tweets and news"
      ]
    },
    {
      "cell_type": "code",
      "metadata": {
        "id": "2uBckaXZBUyw",
        "colab_type": "code",
        "colab": {}
      },
      "source": [
        "with open('banglore_tweets.txt','r') as src:\n",
        "  src_tweets = src.read()\n",
        "\n",
        "with open('indian_express_news.txt','r') as news:\n",
        "  express_news = news.read()"
      ],
      "execution_count": null,
      "outputs": []
    },
    {
      "cell_type": "code",
      "metadata": {
        "id": "E1FtvunIdb0A",
        "colab_type": "code",
        "colab": {}
      },
      "source": [
        "# Remove Emojis from the tweets\n",
        "def deEmojify(inputString):\n",
        "    return inputString.encode('ascii', 'ignore').decode('ascii')"
      ],
      "execution_count": null,
      "outputs": []
    },
    {
      "cell_type": "code",
      "metadata": {
        "id": "BbOmcgWAd0Cl",
        "colab_type": "code",
        "colab": {}
      },
      "source": [
        "# Remove URLS mentioned in the tweets\n",
        "def remove_url(inputString):\n",
        "  return re.sub(r'(https|http)?:\\/\\/(\\w|\\.|\\/|\\?|\\=|\\&|\\%)*\\b', '', inputString, flags=re.MULTILINE)"
      ],
      "execution_count": null,
      "outputs": []
    },
    {
      "cell_type": "code",
      "metadata": {
        "id": "8uZ4o5-udc86",
        "colab_type": "code",
        "colab": {}
      },
      "source": [
        "src_tweets = remove_url(src_tweets)\n",
        "src_tweets = deEmojify(src_tweets)"
      ],
      "execution_count": null,
      "outputs": []
    },
    {
      "cell_type": "code",
      "metadata": {
        "id": "s6wOWXprVtCy",
        "colab_type": "code",
        "colab": {
          "base_uri": "https://localhost:8080/",
          "height": 68
        },
        "outputId": "77c6ee71-0e50-4c9b-e9c5-8dde9d109bae"
      },
      "source": [
        "import nltk\n",
        "from nltk.tokenize import word_tokenize,sent_tokenize\n",
        "# Download punkt tokeniser\n",
        "nltk.download('punkt')"
      ],
      "execution_count": null,
      "outputs": [
        {
          "output_type": "stream",
          "text": [
            "[nltk_data] Downloading package punkt to /root/nltk_data...\n",
            "[nltk_data]   Unzipping tokenizers/punkt.zip.\n"
          ],
          "name": "stdout"
        },
        {
          "output_type": "execute_result",
          "data": {
            "text/plain": [
              "True"
            ]
          },
          "metadata": {
            "tags": []
          },
          "execution_count": 11
        }
      ]
    },
    {
      "cell_type": "code",
      "metadata": {
        "id": "JDEBYRw3WGQm",
        "colab_type": "code",
        "colab": {}
      },
      "source": [
        "# Tokenising the text\n",
        "tweet_tokens = word_tokenize(src_tweets)\n",
        "news_tokens = word_tokenize(express_news)"
      ],
      "execution_count": null,
      "outputs": []
    },
    {
      "cell_type": "code",
      "metadata": {
        "id": "szPypPCBMD7D",
        "colab_type": "code",
        "colab": {
          "base_uri": "https://localhost:8080/",
          "height": 68
        },
        "outputId": "cb6a151a-821c-429c-dba4-10b41c04b3b1"
      },
      "source": [
        "# Lemmatization -> Converting verbs into its base form\n",
        "from nltk.stem import WordNetLemmatizer\n",
        "nltk.download('wordnet')"
      ],
      "execution_count": null,
      "outputs": [
        {
          "output_type": "stream",
          "text": [
            "[nltk_data] Downloading package wordnet to /root/nltk_data...\n",
            "[nltk_data]   Unzipping corpora/wordnet.zip.\n"
          ],
          "name": "stdout"
        },
        {
          "output_type": "execute_result",
          "data": {
            "text/plain": [
              "True"
            ]
          },
          "metadata": {
            "tags": []
          },
          "execution_count": 13
        }
      ]
    },
    {
      "cell_type": "code",
      "metadata": {
        "id": "KEvbWt7EMVZG",
        "colab_type": "code",
        "colab": {}
      },
      "source": [
        "wnl = WordNetLemmatizer()\n",
        "lemmatized_tweet_tokens = []\n",
        "lemmatized_news_tokens = []\n",
        "\n",
        "for word in tweet_tokens:\n",
        "    lemmatized_tweet_tokens.append(wnl.lemmatize(word, pos=\"v\"))\n",
        "\n",
        "for word in news_tokens:\n",
        "    lemmatized_news_tokens.append(wnl.lemmatize(word, pos=\"v\"))\n",
        "\n",
        "tweet_tokens = lemmatized_tweet_tokens\n",
        "news_tokens = lemmatized_news_tokens"
      ],
      "execution_count": null,
      "outputs": []
    },
    {
      "cell_type": "code",
      "metadata": {
        "id": "HPh-81nrWXAg",
        "colab_type": "code",
        "colab": {
          "base_uri": "https://localhost:8080/",
          "height": 51
        },
        "outputId": "739a85fc-f148-46d0-e864-fc5f777eb964"
      },
      "source": [
        "# Stop words removal\n",
        "nltk.download('stopwords')\n",
        "from nltk.corpus import stopwords"
      ],
      "execution_count": null,
      "outputs": [
        {
          "output_type": "stream",
          "text": [
            "[nltk_data] Downloading package stopwords to /root/nltk_data...\n",
            "[nltk_data]   Unzipping corpora/stopwords.zip.\n"
          ],
          "name": "stdout"
        }
      ]
    },
    {
      "cell_type": "code",
      "metadata": {
        "id": "6gxWW-lraJA0",
        "colab_type": "code",
        "colab": {
          "base_uri": "https://localhost:8080/",
          "height": 54
        },
        "outputId": "a8e0b121-e4b4-4ecd-b82a-74b9bad75dac"
      },
      "source": [
        "print(tweet_tokens)"
      ],
      "execution_count": null,
      "outputs": [
        {
          "output_type": "stream",
          "text": [
            "['RT', '@', 'beingbbt', ':', 'Natural', 'Disaster', 'Management', 'have', 'say', 'that', 'it', 'happen', 'due', 'to', 'the', 'vaccum', 'of', 'hot', 'and', 'cold', 'air', 'during', 'the', 'storm', 'condition', '.', 'SadlRT', '@', 'vkjpandey', ':', 'That', 'sound', 'you', 'hear', '?', 'Do', \"n't\", 'worry', ',', 'it', 'be', 'just', '#', '2020', 'burp', 'after', 'eat', 'up', 'almost', 'half', 'of', 'the', 'year', '.', '#', 'earthquake', '#', 'bangalorPeople', 'surely', 'state', 'the', 'arrival', 'of', '#', 'Aliens', '&', 'amp', ';', 'an', '#', 'earthquake', 'take', 'place', 'in', '#', 'Bangalore', 'after', '#', 'bangaloreboom', '.', 'Mea', '@', 'imshivam2851', ':', 'Mtlb', '2020', 'toh', 'ekdum', 'lene', 'ke', 'liye', 'hath', 'dho', 'ke', 'peche', 'he', 'pad', 'gya', 'h', '...', '2020', 'mean', 'horrible', 'year', '#', 'Amphan', '#', 'Bangalore', '#', 'AmphanSuRT', '@', 'NewIndianXpress', ':', 'Was', 'it', 'a', 'plane', '?', 'An', '#', 'earthquake', '?', 'Was', 'it', '#', 'alien', '?', 'The', 'boom', 'that', 'rattle', 'Bengaluru', 'and', 'pique', 'a', 'nation', '.', 'Hear', 'it', 'here', '!', 'AlsRT', '@', 'mustaqeem31', ':', 'That', 'be', 'nothing', 'in', 'Bangalore', 'but', 'just', 'sonic', 'boom', 'cause', 'by', 'air', 'raft', 'go', 'at', 'high', 'speed', '.', 'Calm', 'down', 'guy', '!', '!', '#', 'Bangalore', '#', 'eaRT', '@', 'Risky050', ':', 'I', 'be', 'find', 'ways', 'to', 'survive', '2020', '#', 'Bangalore', '#', 'bangaloreboom', '#', '2020', '@', 'raginidwivedi24', ':', 'RDWELFARE', 'AND', '@', 'ishafoundation', 'with', 'the', 'bless', 'of', '@', 'SadhguruJV', 'ji', 'do', 'ration', 'kit', 'distribution', 'for', 'daily', 'wage', 'workersRT', '@', 'Atheist_Krishna', ':', 'Nobody', 'know', 'what', 'happen', 'in', '#', 'Bangalore', '.', 'This', 'be', 'my', 'theory', '.', '``', 'Aliens', 'come', 'to', 'see', 'IPL', 'match', '&', 'amp', ';', 'when', 'they', 'do', \"n't\", 'see', 'anyRT', '@', 'ani_royal007', ':', '#', 'Bangalore', '#', 'Aliens', '#', 'Bangalore', 'People', 'be', 'come', 'out', 'of', 'their', 'house', 'cause', 'of', '#', 'sonicboom', 'Humans', 'be', 'talk', 'there', 'be', 'AliRT', '@', 'yeswanth86', ':', 'When', 'Nara', 'Lokesh', 'be', 'try', 'to', 'explore', 'on', 'what', 'happen', 'in', '#', 'Bangalore', '?', 'Sound', 'on', '@', 'KeKrishnan', ':', '#', 'Bengaluru', 'Heard', 'this', 'big', '#', 'boom', 'sound', '.', 'Still', 'not', 'clear', 'from', 'where', 'this', 'sound', 'come', 'from', '.', '#', 'darksideofthering', '#', 'BREAK_THE_SILENRT', '@', 'Khaja_Nazeer007', ':', 'SHOCKING', '!', '!', '!', 'Loud', 'BOOM', 'noise', 'hear', 'in', 'Bangalore', 'Again', '!', '!', '!', '#', 'earthquake', '#', 'sonicboom', '#', 'Bangalore', '#', 'bangaloresound', '#', 'BOOM', '#', 'TheRT', '@', 'itz_Cigarette', ':', 'We', '#', 'Bangalore', 'People', 'Be', 'Like', 'Andha', 'Sattam', '..', '!', '!', '#', 'ThalapathyVijau', '#', 'Master', '@', 'SunilGU26988877', ':', 'After', 'Hearing', 'loud', 'Boom', 'sound', 'Aliens', 'to', '#', 'Bangalore', 'ppls', 'so', 'far', '.', 'Bengaluru', 'please', 'confirm', ',', 'can', 'we', 'tick', '#', 'Aliens', 'hRT', '@', 'MehamoodShaik', ':', 'OMG', '!', '!', 'Did', 'U', 'hear', 'that', 'sound', '!', '?', '?', 'It', \"'s\", 'horrible', '!', '!', '#', 'Bangalore', '#', 'SoundCloud', '#', 'Aliens', '@', 'Khaja_Nazeer007', ':', 'SHOCKING', '!', '!', '!', 'Loud', 'BOOM', 'noise', 'hear', 'in', 'Bangalore', 'Again', '!', '!', '!', '#', 'earthquake', '#', 'sonicboom', '#', 'Bangalore', '#', 'bangaloresound', '#', 'BOOM', '#', 'TheRT', '@', 'HistoryBuff1947', ':', 'JUST', 'IN', ':', 'The', 'source', 'of', 'Mysterious', 'loud', \"'boom\", \"'\", 'hear', 'in', '#', 'Bangalore', 'be', 'not', 'Aliens', ',', 'Earthquake', 'or', 'Mirage', '2000', '.', 'The', 'unoffRT', '@', 'ArunGoviI12', ':', 'It', 'may', 'Be', 'A', 'Sonic', 'Boom', '#', 'Bangalore', '#', 'SonicBoom', '@', 'thememerliki', ':', '#', 'Bangalore', '#', 'alien', 'If', 'Aliens', 'land', 'on', 'bangalore', 'Me', ':', 'I', 'THINK', 'YOU', 'CAME', 'TO', 'THE', 'WRONG', 'ADDRESS', 'YOU', 'SHOULD', 'GO', 'TO', 'AMERICA', 'THATRT', '@', 'MishraSandy29', ':', '@', 'ShivAroor', 'Caught', 'it', '!', '!', 'Finally..', 'possible', 'reasone', 'behind', 'that', 'sonic', 'boom', 'type', 'of', 'noise', '!', '!', '#', 'bangalore', '#', 'bengaluru', 'any', 'idRT', '@', 'Atheist_Krishna', ':', 'I', 'think', 'everyone', 'be', 'safe', '.', '#', 'Bangalore', '@', 'harshhhhh_s', ':', 'OG', 'memers', 'and', 'copycat', 'memers', 'be', 'like', 'sonic', 'boom', 'and', 'alien', 'sound', '...', '..', '.', 'Copy', 'krne', 'wale', 'jyada', 'famous', 'hain', '#', 'Aliens', '#', 'sonicRT', '@', 'AbbiePillai', ':', 'Hey', '#', 'Bangalore', 'Folks', '!', 'Any', 'job', 'open', 'for', 'BD/Sales', 'profile', '?', 'Have', 'Four', 'years', 'of', 'work', 'experience.RT', '@', 'Khaja_Nazeer007', ':', 'SHOCKING', '!', '!', '!', 'Loud', 'BOOM', 'noise', 'hear', 'in', 'Bangalore', 'Again', '!', '!', '!', '#', 'earthquake', '#', 'sonicboom', '#', 'Bangalore', '#', 'bangaloresound', '#', 'BOOM', '#', 'TheRT', '@', 'MehamoodShaik', ':', 'OMG', '!', '!', 'Did', 'U', 'hear', 'that', 'sound', '!', '?', '?', 'It', \"'s\", 'horrible', '!', '!', '#', 'Bangalore', '#', 'SoundCloud', '#', 'Aliens', '@', 'Khaja_Nazeer007', ':', 'SHOCKING', '!', '!', '!', 'Loud', 'BOOM', 'noise', 'hear', 'in', 'Bangalore', 'Again', '!', '!', '!', '#', 'earthquake', '#', 'sonicboom', '#', 'Bangalore', '#', 'bangaloresound', '#', 'BOOM', '#', 'TheRT', '@', 'Atheist_Krishna', ':', 'Nobody', 'know', 'what', 'happen', 'in', '#', 'Bangalore', '.', 'This', 'be', 'my', 'theory', '.', '``', 'Aliens', 'come', 'to', 'see', 'IPL', 'match', '&', 'amp', ';', 'when', 'they', 'do', \"n't\", 'see', 'anyRT', '@', 'raginidwivedi24', ':', 'RDWELFARE', 'AND', '@', 'ishafoundation', 'with', 'the', 'bless', 'of', '@', 'SadhguruJV', 'ji', 'do', 'ration', 'kit', 'distribution', 'for', 'daily', 'wage', 'workersRT', '@', 'ani_royal007', ':', '#', 'Bangalore', '#', 'Bangalore', '#', 'Covid_19', 'People', 'be', 'out', 'of', 'their', 'house', 'due', 'to', 'blast', 'sound', 'Le', '--', '-Corona', 'Virus', '--', 'RT', '@', 'thememerliki', ':', '#', 'Bangalore', '#', 'alien', 'If', 'Aliens', 'land', 'on', 'bangalore', 'Me', ':', 'I', 'THINK', 'YOU', 'CAME', 'TO', 'THE', 'WRONG', 'ADDRESS', 'YOU', 'SHOULD', 'GO', 'TO', 'AMERICA', 'THATOkay', 'so', 'after', 'Bangalore', ',', 'the', 'Same', 'kind', 'of', 'Boom', 'sound', 'from', 'Gwalior', '(', 'MP', ')', 'now', 'at', 'around', '8:45', 'PM', '.', 'Not', 'yet', 'any', 'official', '@', 'Khaja_Nazeer007', ':', 'SHOCKING', '!', '!', '!', 'Loud', 'BOOM', 'noise', 'hear', 'in', 'Bangalore', 'Again', '!', '!', '!', '#', 'earthquake', '#', 'sonicboom', '#', 'Bangalore', '#', 'bangaloresound', '#', 'BOOM', '#', 'The', '#', 'Aliens', 'in', '#', 'Bangalore', 'what', '?', 'spot', 'the', '#', 'watercolouronpaper', '@', 'shefali1008', ':', 'India', 'and', 'UAE', 'always', 'have', 'respect', 'and', 'love', 'each', 'other', '.', 'They', 'share', 'high', 'moral', 'value', '.', 'Watch', 'Sheikh', 'Saying', '``', 'Jai', 'Siya', 'RamRT', '@', 'KeKrishnan', ':', '#', 'Bengaluru', 'Heard', 'this', 'big', '#', 'boom', 'sound', '.', 'Still', 'not', 'clear', 'from', 'where', 'this', 'sound', 'come', 'from', '.', '#', 'darksideofthering', '#', 'BREAK_THE_SILENRT', '@', '23khyati', ':', 'That', 'sound', 'you', 'hear', '?', 'Do', \"n't\", 'worry', ',', 'it', 'be', 'just', '#', '2020', 'burp', 'after', 'eat', 'up', 'almost', 'half', 'of', 'the', 'year', '.', '#', 'BangaloreRT', '@', 'rameshsrivats', ':', '#', 'Bangalore', 'get', 'a', 'loud', 'Bang', '.', 'Now', ',', 'Dhanbad', 'wait', 'for', 'Dhan', ',', 'Chandigarh', 'for', 'Chandi', ',', 'Amritsar', 'for', 'Amrit', ',', 'And', 'Lucknow', 'for', 'sRT', '@', 'ani_royal007', ':', '#', 'Bangalore', '#', 'Aliens', 'in', '#', 'Bangalore', 'Meanwhile', '--', 'Indians', '@', 'Atheist_Krishna', ':', 'I', 'think', 'everyone', 'be', 'safe', '.', '#', 'Bangalore', '@', 'Itslokesh__', ':', 'That', 'sound', 'you', 'hear', '?', 'Do', \"n't\", 'worry', ',', 'it', 'be', 'just', '#', '2020', 'burp', 'after', 'eat', 'up', 'almost', 'half', 'of', 'the', 'year', '.', '#', 'earthquake', '#', 'baRT', '@', 'Khaja_Nazeer007', ':', 'SHOCKING', '!', '!', '!', 'Loud', 'BOOM', 'noise', 'hear', 'in', 'Bangalore', 'Again', '!', '!', '!', '#', 'earthquake', '#', 'sonicboom', '#', 'Bangalore', '#', 'bangaloresound', '#', 'BOOM', '#', 'TheRT', '@', 'BurriJeevan007', ':', 'SHOCKING', '!', '!', '!', 'Loud', 'BOOM', 'noise', 'hear', 'in', 'Bangalore', 'Again', '!', '!', '!', '#', 'earthquake', '#', 'sonicboom', '#', 'Bangalore', '#', 'bangaloresound', '#', 'BOOM', '#', 'TheVoRT', '@', 'Atheist_Krishna', ':', 'Nobody', 'know', 'what', 'happen', 'in', '#', 'Bangalore', '.', 'This', 'be', 'my', 'theory', '.', '``', 'Aliens', 'come', 'to', 'see', 'IPL', 'match', '&', 'amp', ';', 'when', 'they', 'do', \"n't\", 'see', 'anyRT', '@', 'NewIndianXpress', ':', 'Was', 'it', 'a', 'plane', '?', 'An', '#', 'earthquake', '?', 'Was', 'it', '#', 'alien', '?', 'The', 'boom', 'that', 'rattle', 'Bengaluru', 'and', 'pique', 'a', 'nation', '.', 'Hear', 'it', 'here', '!', 'AlsRT', '@', 'Atheist_Krishna', ':', 'Nobody', 'know', 'what', 'happen', 'in', '#', 'Bangalore', '.', 'This', 'be', 'my', 'theory', '.', '``', 'Aliens', 'come', 'to', 'see', 'IPL', 'match', '&', 'amp', ';', 'when', 'they', 'do', \"n't\", 'see', 'anyRT', '@', 'KeKrishnan', ':', '#', 'Bengaluru', 'Heard', 'this', 'big', '#', 'boom', 'sound', '.', 'Still', 'not', 'clear', 'from', 'where', 'this', 'sound', 'come', 'from', '.', '#', 'darksideofthering', '#', 'BREAK_THE_SILENRT', '@', 'AbbiePillai', ':', 'Hey', '#', 'Bangalore', 'Folks', '!', 'Any', 'job', 'open', 'for', 'BD/Sales', 'profile', '?', 'Have', 'Four', 'years', 'of', 'work', 'experience.RT', '@', 'ani_royal007', ':', '#', 'Bangalore', '#', 'Aliens', '#', 'Bangalore', 'People', 'be', 'come', 'out', 'of', 'their', 'house', 'cause', 'of', '#', 'sonicboom', 'Humans', 'be', 'talk', 'there', 'be', 'Ali', '#', 'earthquake', '#', 'bangaloreboom', '#', 'bangaloresound', '#', 'earthquake', '#', 'Aliens', '#', 'Bangalore', 'Is', 'this', 'the', 'reason', '?', '@', 'NewIndianXpress', ':', 'Was', 'it', 'a', 'plane', '?', 'An', '#', 'earthquake', '?', 'Was', 'it', '#', 'alien', '?', 'The', 'boom', 'that', 'rattle', 'Bengaluru', 'and', 'pique', 'a', 'nation', '.', 'Hear', 'it', 'here', '!', 'AlsRT', '@', 'hu_wahi', ':', 'After', 'Police', ',', 'Now', 'Airforce', 'Army', 'be', 'Scaring', 'the', 'Shit', 'out', 'of', 'Bangalorian', 'for', 'Lockdown', '#', 'bangaloreboom', '#', 'Bangalore', 'RT', '@', 'NewIndianXpress', ':', 'Was', 'it', 'a', 'plane', '?', 'An', '#', 'earthquake', '?', 'Was', 'it', '#', 'alien', '?', 'The', 'boom', 'that', 'rattle', 'Bengaluru', 'and', 'pique', 'a', 'nation', '.', 'Hear', 'it', 'here', '!', 'AlsRT', '@', 'ani_royal007', ':', '#', 'Bangalore', '#', 'Bangalore', '#', 'Covid_19', 'People', 'be', 'out', 'of', 'their', 'house', 'due', 'to', 'blast', 'sound', 'Le', '--', '-Corona', 'Virus', '--', 'RT', '@', 'MehamoodShaik', ':', 'OMG', '!', '!', 'Did', 'U', 'hear', 'that', 'sound', '!', '?', '?', 'It', \"'s\", 'horrible', '!', '!', '#', 'Bangalore', '#', 'SoundCloud', '#', 'Aliens', '@', 'piyushthakur__', ':', 'Peoples', 'in', 'banglore', 'after', 'hear', 'strange', 'sound-', '#', 'bangaloreboom', '#', 'Bangalore', '@', 'Atheist_Krishna', ':', 'Nobody', 'know', 'what', 'happen', 'in', '#', 'Bangalore', '.', 'This', 'be', 'my', 'theory', '.', '``', 'Aliens', 'come', 'to', 'see', 'IPL', 'match', '&', 'amp', ';', 'when', 'they', 'do', \"n't\", 'see', 'anyRT', '@', 'theobstinatekid', ':', 'Someone', 'in', '#', 'Bangalore', '#', 'earthquake', '#', 'bangaloreboom', '@', 'ignsatyavachan', ':', 'Do', \"n't\", 'Worry', 'Bangalore', '#', 'alien', 'be', 'return', 'the', 'ball', 'which', '#', 'Dhoni', 'have', 'smash', 'out', 'of', 'stadium', '#', 'Bangalore', '#', 'Bengaluru', '#', 'baRT', '@', 'ratchetrxchel', ':', 'Meanwhile', 'in', '#', 'Bangalore', '@', 'Khaja_Nazeer007', ':', 'SHOCKING', '!', '!', '!', 'Loud', 'BOOM', 'noise', 'hear', 'in', 'Bangalore', 'Again', '!', '!', '!', '#', 'earthquake', '#', 'sonicboom', '#', 'Bangalore', '#', 'bangaloresound', '#', 'BOOM', '#', 'TheRT', '@', 'Atheist_Krishna', ':', 'Nobody', 'know', 'what', 'happen', 'in', '#', 'Bangalore', '.', 'This', 'be', 'my', 'theory', '.', '``', 'Aliens', 'come', 'to', 'see', 'IPL', 'match', '&', 'amp', ';', 'when', 'they', 'do', \"n't\", 'see', 'anyRT', '@', 'vkjpandey', ':', 'That', 'sound', 'you', 'hear', '?', 'Do', \"n't\", 'worry', ',', 'it', 'be', 'just', '#', '2020', 'burp', 'after', 'eat', 'up', 'almost', 'half', 'of', 'the', 'year', '.', '#', 'earthquake', '#', 'bangalorRT', '@', 'rameshsrivats', ':', '#', 'Bangalore', 'get', 'a', 'loud', 'Bang', '.', 'Now', ',', 'Dhanbad', 'wait', 'for', 'Dhan', ',', 'Chandigarh', 'for', 'Chandi', ',', 'Amritsar', 'for', 'Amrit', ',', 'And', 'Lucknow', 'for', 'sRT', '@', 'Pagal_aurat', ':', 'my', 'Dad', \"'s\", 'sneeze', 'be', 'louder', 'than', 'the', 'Sonic', 'boom', '.', '#', 'BangaloreRT', '@', 'NewIndianXpress', ':', 'Was', 'it', 'a', 'plane', '?', 'An', '#', 'earthquake', '?', 'Was', 'it', '#', 'alien', '?', 'The', 'boom', 'that', 'rattle', 'Bengaluru', 'and', 'pique', 'a', 'nation', '.', 'Hear', 'it', 'here', '!', 'AlsRT', '@', 'Khaja_Nazeer007', ':', 'SHOCKING', '!', '!', '!', 'Loud', 'BOOM', 'noise', 'hear', 'in', 'Bangalore', 'Again', '!', '!', '!', '#', 'earthquake', '#', 'sonicboom', '#', 'Bangalore', '#', 'bangaloresound', '#', 'BOOM', '#', 'TheRT', '@', 'Khaja_Nazeer007', ':', 'SHOCKING', '!', '!', '!', 'Loud', 'BOOM', 'noise', 'hear', 'in', 'Bangalore', 'Again', '!', '!', '!', '#', 'earthquake', '#', 'sonicboom', '#', 'Bangalore', '#', 'bangaloresound', '#', 'BOOM', '#', 'TheRT', '@', 'Atheist_Krishna', ':', 'Nobody', 'know', 'what', 'happen', 'in', '#', 'Bangalore', '.', 'This', 'be', 'my', 'theory', '.', '``', 'Aliens', 'come', 'to', 'see', 'IPL', 'match', '&', 'amp', ';', 'when', 'they', 'do', \"n't\", 'see', 'anyRT', '@', 'beingbbt', ':', 'Natural', 'Disaster', 'Management', 'have', 'say', 'that', 'it', 'happen', 'due', 'to', 'the', 'vaccum', 'of', 'hot', 'and', 'cold', 'air', 'during', 'the', 'storm', 'condition', '.', 'SadlRT', '@', 'Khaja_Nazeer007', ':', 'SHOCKING', '!', '!', '!', 'Loud', 'BOOM', 'noise', 'hear', 'in', 'Bangalore', 'Again', '!', '!', '!', '#', 'earthquake', '#', 'sonicboom', '#', 'Bangalore', '#', 'bangaloresound', '#', 'BOOM', '#', 'TheRT', '@', 'shefali1008', ':', 'India', 'and', 'UAE', 'always', 'have', 'respect', 'and', 'love', 'each', 'other', '.', 'They', 'share', 'high', 'moral', 'value', '.', 'Watch', 'Sheikh', 'Saying', '``', 'Jai', 'Siya', 'RamRT', '@', 'raginidwivedi24', ':', 'RDWELFARE', 'AND', '@', 'ishafoundation', 'with', 'the', 'bless', 'of', '@', 'SadhguruJV', 'ji', 'do', 'ration', 'kit', 'distribution', 'for', 'daily', 'wage', 'workersRT', '@', 'BloodAid', ':', '#', 'Bengaluru', '#', 'Bangalore', '#', 'Emergency', 'Need', '6', 'units', 'A+', '#', 'blood', 'for', 'Dengue', 'fighter', '@', 'Apollo', 'Hospital', ',', 'Sheshadripuram', '.', 'Call', '7892276700RT', '@', 'ItzAravind06', ':', 'What', \"'s\", 'happen', 'in', 'Bangalore', '?', '#', 'Bengaluru', '#', 'Bangalore', '@', 'hello_saitan', ':', 'Did', 'you', 'hear', 'the', 'super', 'Sonic', 'Sonic', 'sound', 'Banglore', 'people', \"'s\", '#', 'Bangalore', '@', 'VinodTh82773887', ':', 'People', 'come', 'out', 'of', 'house', 'due', 'to', 'that', 'blast', 'sound', 'in', 'Bangalore', '#', 'Bangalore', 'sound', 'you', 'hear', '?', 'Do', \"n't\", 'worry', 'nd', 'chill', ',', 'what', 'can', 'be', 'more', 'bad', 'than', 'this', 'year..', 'it', 'be', 'just', '#', '2020', '#', 'belch', 'after', '@', 'vkjpandey', ':', 'That', 'sound', 'you', 'hear', '?', 'Do', \"n't\", 'worry', ',', 'it', 'be', 'just', '#', '2020', 'burp', 'after', 'eat', 'up', 'almost', 'half', 'of', 'the', 'year', '.', '#', 'earthquake', '#', 'bangalorRT', '@', 'rajasbelsare', ':', 'Did', 'you', '?', '#', 'Bangalore', '@', 'vkjpandey', ':', 'That', 'sound', 'you', 'hear', '?', 'Do', \"n't\", 'worry', ',', 'it', 'be', 'just', '#', '2020', 'burp', 'after', 'eat', 'up', 'almost', 'half', 'of', 'the', 'year', '.', '#', 'earthquake', '#', 'bangalorRT', '@', 'susheelwomaniya', ':', 'Loud', 'boom', 'hear', 'in', '#', 'Bangalore', 'today', '.', 'Welcome', 'to', 'next', 'level', 'of', '#', 'Jumanji.RT', '@', 'Incivilee', ':', '@', 'niteshsolanky', 'So', 'that', \"'s\", 'wht', 'happend', '!', '!', '#', 'bangaloreboom', '#', 'Bangalore', '#', 'Aliens', '@', 'Neeraj_Sharma_', ':', 'That', 'be', 'most', 'likely', 'a', 'big', 'sonic', 'boom', '.', 'Shaking', 'build', 'and', 'windows', '.', 'Shock', 'around', '20', 'minutes', 'ago', '.', 'Later', 'I', 'can', 'see', 'andRT', '@', 'KritikaKathuria', ':', 'I', 'hope', 'everybody', \"'s\", 'safe', '.', '#', 'Bangalore', '#', 'AmphanSuperCycloneRT', '@', 'NewIndianXpress', ':', 'Was', 'it', 'a', 'plane', '?', 'An', '#', 'earthquake', '?', 'Was', 'it', '#', 'alien', '?', 'The', 'boom', 'that', 'rattle', 'Bengaluru', 'and', 'pique', 'a', 'nation', '.', 'Hear', 'it', 'here', '!', 'AlsRT', '@', 'Atheist_Krishna', ':', 'Nobody', 'know', 'what', 'happen', 'in', '#', 'Bangalore', '.', 'This', 'be', 'my', 'theory', '.', '``', 'Aliens', 'come', 'to', 'see', 'IPL', 'match', '&', 'amp', ';', 'when', 'they', 'do', \"n't\", 'see', 'anyRT', '@', 'msp_011', ':', '#', 'Bangalore', 'Sources', 'confirm', ':', 'No', 'Earthquake', 'No', 'Mirage', '2000', 'No', 'Cyclone', 'No', 'Dinosaur', 'Le', '2020', 'to', 'Bengaluru', 'People', ':', 'https', ':', '/RT', '@', 'ajay592yadav', ':', 'That', 'sound', 'you', 'hear', '?', 'Do', \"n't\", 'worry', 'nd', 'chill', ',', 'what', 'can', 'be', 'more', 'bad', 'than', 'this', 'year..', 'it', 'be', 'just', '#', '2020', '#', 'belch', 'after', 'eatinRT', '@', 'shefali1008', ':', 'India', 'and', 'UAE', 'always', 'have', 'respect', 'and', 'love', 'each', 'other', '.', 'They', 'share', 'high', 'moral', 'value', '.', 'Watch', 'Sheikh', 'Saying', '``', 'Jai', 'Siya', 'RamRT', '@', 'Raneassasance', ':', '#', 'bangaloreboom', '#', 'Bangalore', 'The', 'Arrival', 'in', 'Bangalore', '@', 'shefali1008', ':', 'India', 'and', 'UAE', 'always', 'have', 'respect', 'and', 'love', 'each', 'other', '.', 'They', 'share', 'high', 'moral', 'value', '.', 'Watch', 'Sheikh', 'Saying', '``', 'Jai', 'Siya', 'RamRT', '@', 'MishraSandy29', ':', '@', 'ShivAroor', 'Caught', 'it', '!', '!', 'Finally..', 'possible', 'reasone', 'behind', 'that', 'sonic', 'boom', 'type', 'of', 'noise', '!', '!', '#', 'bangalore', '#', 'bengaluru', 'any', 'idRT', '@', 'KeKrishnan', ':', '#', 'Bengaluru', 'Heard', 'this', 'big', '#', 'boom', 'sound', '.', 'Still', 'not', 'clear', 'from', 'where', 'this', 'sound', 'come', 'from', '.', '#', 'darksideofthering', '#', 'BREAK_THE_SILENRT', '@', 'ReeshaMishkaat', ':', '#', 'Bangalore', '#', 'bangaloreboom', '#', 'weather', 'I', 'do', \"n't\", 'know', 'what', 'kind', 'of', 'sound', 'it', 'be', '.', 'But', 'dam', 'sure', 'it', 'be', 'not', 'a', 'good', 'sign', '.', '#', 'Aliens', '#', 'bangaloreboom', '#', 'bangaloresound', 'People', 'of', '#', 'Bangalore', 'think', 'this', 'be', 'Alien', 'Sound', 'Meanwhile', 'Mote', 'log', 'jo', 'roz', '@', 'MehamoodShaik', ':', 'OMG', '!', '!', 'Did', 'U', 'hear', 'that', 'sound', '!', '?', '?', 'It', \"'s\", 'horrible', '!', '!', '#', 'Bangalore', '#', 'SoundCloud', '#', 'Aliens', '@', 'NewIndianXpress', ':', 'Was', 'it', 'a', 'plane', '?', 'An', '#', 'earthquake', '?', 'Was', 'it', '#', 'alien', '?', 'The', 'boom', 'that', 'rattle', 'Bengaluru', 'and', 'pique', 'a', 'nation', '.', 'Hear', 'it', 'here', '!', 'AlsOnly', 'alien', 'can', 'do', 'that', '#', 'Bangalorewhat', 'happen', 'in', '#', 'Bangalore', '?', 'This', 'be', 'my', 'theory', ':', 'Jaadu', 'have', 'come', 'back', 'to', 'the', 'earth', 'to', 'give', 'us', 'a', 'vaccine', 'for', 'corona', '!']\n"
          ],
          "name": "stdout"
        }
      ]
    },
    {
      "cell_type": "code",
      "metadata": {
        "id": "U8w0qRNUZVr2",
        "colab_type": "code",
        "colab": {
          "base_uri": "https://localhost:8080/",
          "height": 54
        },
        "outputId": "4977f829-62ae-4017-94d2-73b9d92ecb68"
      },
      "source": [
        "stop_words = set(stopwords.words('english'))\n",
        "stop_words.update(['.',',','#','@',':','...','!','?','&','(',')','\\'','..','--',';','-','“','``','”','‘','’','–','%'])\n",
        "print(stop_words)"
      ],
      "execution_count": null,
      "outputs": [
        {
          "output_type": "stream",
          "text": [
            "{'wasn', \"you'll\", '–', 'that', 'some', 'before', 'both', 'which', \"you're\", 'ain', 'can', 'i', 'between', 'herself', 'has', 'having', 'on', 'who', 'aren', 'in', 'just', \"weren't\", 'each', \"couldn't\", 'hadn', ':', 'ours', 't', 'him', 'its', 'during', \"isn't\", 'over', 'then', 'itself', 'theirs', \"that'll\", '(', 're', 'no', 'the', 'with', \"needn't\", '“', 'from', 'yours', 'didn', 'it', 'how', 'will', \"hadn't\", 'needn', 'shan', \"hasn't\", 'if', 'yourself', 'all', 'doing', 'y', 'you', 'himself', 'against', 'd', 'me', 'couldn', 'did', 'll', 'haven', 'have', 'not', 'below', 'wouldn', 'be', 'them', '”', 'such', \"didn't\", 'what', 'where', 'of', '-', 'above', 'than', 'is', 'only', \"won't\", 'again', \"she's\", 'ma', \"mightn't\", 'their', 'a', 'do', 'to', ',', 'as', 'about', 'her', \"aren't\", 'hers', 'been', 'at', \"should've\", \"wouldn't\", \"haven't\", \"wasn't\", 'but', 'being', 'your', 'off', 'whom', 'our', 'these', 'other', '...', 'should', 'because', 'why', 'own', \"don't\", 'shouldn', 'while', 'his', 's', 'my', 'themselves', 'down', 'into', 'mightn', 'am', \"it's\", 'mustn', 'through', 'we', '..', 'myself', 'there', 'most', 'ourselves', 'same', 'm', 'so', '‘', '%', 'under', 'yourselves', 'and', 'won', '@', 'by', 'an', '’', 'nor', 've', 'further', 'he', '.', \"you've\", 'they', 'when', 'now', 'out', 'for', 'up', \"mustn't\", 'more', '?', 'were', 'any', ')', 'are', 'doesn', \"doesn't\", '--', 'until', 'she', 'very', 'those', 'isn', '#', 'hasn', \"shan't\", \"shouldn't\", \"'\", 'this', 'weren', '``', 'once', 'after', \"you'd\", 'o', 'was', 'here', '&', '!', 'too', 'does', 'had', 'don', 'or', 'few', ';'}\n"
          ],
          "name": "stdout"
        }
      ]
    },
    {
      "cell_type": "code",
      "metadata": {
        "id": "gm_pc6KHZhrR",
        "colab_type": "code",
        "colab": {}
      },
      "source": [
        "filtered_tweet_tokens = []\n",
        "for token in tweet_tokens:\n",
        "  if token not in stop_words:\n",
        "    filtered_tweet_tokens.append(token)\n",
        "\n",
        "filtered_news_tokens = []\n",
        "for token in news_tokens:\n",
        "  if token not in stop_words:\n",
        "    filtered_news_tokens.append(token)"
      ],
      "execution_count": null,
      "outputs": []
    },
    {
      "cell_type": "code",
      "metadata": {
        "id": "b2Yqc4E1bJp3",
        "colab_type": "code",
        "colab": {
          "base_uri": "https://localhost:8080/",
          "height": 54
        },
        "outputId": "e2e0c47c-d4e8-47aa-d259-c1347fcf6361"
      },
      "source": [
        "print(filtered_tweet_tokens)"
      ],
      "execution_count": null,
      "outputs": [
        {
          "output_type": "stream",
          "text": [
            "['RT', 'beingbbt', 'Natural', 'Disaster', 'Management', 'say', 'happen', 'due', 'vaccum', 'hot', 'cold', 'air', 'storm', 'condition', 'SadlRT', 'vkjpandey', 'That', 'sound', 'hear', 'Do', \"n't\", 'worry', '2020', 'burp', 'eat', 'almost', 'half', 'year', 'earthquake', 'bangalorPeople', 'surely', 'state', 'arrival', 'Aliens', 'amp', 'earthquake', 'take', 'place', 'Bangalore', 'bangaloreboom', 'Mea', 'imshivam2851', 'Mtlb', '2020', 'toh', 'ekdum', 'lene', 'ke', 'liye', 'hath', 'dho', 'ke', 'peche', 'pad', 'gya', 'h', '2020', 'mean', 'horrible', 'year', 'Amphan', 'Bangalore', 'AmphanSuRT', 'NewIndianXpress', 'Was', 'plane', 'An', 'earthquake', 'Was', 'alien', 'The', 'boom', 'rattle', 'Bengaluru', 'pique', 'nation', 'Hear', 'AlsRT', 'mustaqeem31', 'That', 'nothing', 'Bangalore', 'sonic', 'boom', 'cause', 'air', 'raft', 'go', 'high', 'speed', 'Calm', 'guy', 'Bangalore', 'eaRT', 'Risky050', 'I', 'find', 'ways', 'survive', '2020', 'Bangalore', 'bangaloreboom', '2020', 'raginidwivedi24', 'RDWELFARE', 'AND', 'ishafoundation', 'bless', 'SadhguruJV', 'ji', 'ration', 'kit', 'distribution', 'daily', 'wage', 'workersRT', 'Atheist_Krishna', 'Nobody', 'know', 'happen', 'Bangalore', 'This', 'theory', 'Aliens', 'come', 'see', 'IPL', 'match', 'amp', \"n't\", 'see', 'anyRT', 'ani_royal007', 'Bangalore', 'Aliens', 'Bangalore', 'People', 'come', 'house', 'cause', 'sonicboom', 'Humans', 'talk', 'AliRT', 'yeswanth86', 'When', 'Nara', 'Lokesh', 'try', 'explore', 'happen', 'Bangalore', 'Sound', 'KeKrishnan', 'Bengaluru', 'Heard', 'big', 'boom', 'sound', 'Still', 'clear', 'sound', 'come', 'darksideofthering', 'BREAK_THE_SILENRT', 'Khaja_Nazeer007', 'SHOCKING', 'Loud', 'BOOM', 'noise', 'hear', 'Bangalore', 'Again', 'earthquake', 'sonicboom', 'Bangalore', 'bangaloresound', 'BOOM', 'TheRT', 'itz_Cigarette', 'We', 'Bangalore', 'People', 'Be', 'Like', 'Andha', 'Sattam', 'ThalapathyVijau', 'Master', 'SunilGU26988877', 'After', 'Hearing', 'loud', 'Boom', 'sound', 'Aliens', 'Bangalore', 'ppls', 'far', 'Bengaluru', 'please', 'confirm', 'tick', 'Aliens', 'hRT', 'MehamoodShaik', 'OMG', 'Did', 'U', 'hear', 'sound', 'It', \"'s\", 'horrible', 'Bangalore', 'SoundCloud', 'Aliens', 'Khaja_Nazeer007', 'SHOCKING', 'Loud', 'BOOM', 'noise', 'hear', 'Bangalore', 'Again', 'earthquake', 'sonicboom', 'Bangalore', 'bangaloresound', 'BOOM', 'TheRT', 'HistoryBuff1947', 'JUST', 'IN', 'The', 'source', 'Mysterious', 'loud', \"'boom\", 'hear', 'Bangalore', 'Aliens', 'Earthquake', 'Mirage', '2000', 'The', 'unoffRT', 'ArunGoviI12', 'It', 'may', 'Be', 'A', 'Sonic', 'Boom', 'Bangalore', 'SonicBoom', 'thememerliki', 'Bangalore', 'alien', 'If', 'Aliens', 'land', 'bangalore', 'Me', 'I', 'THINK', 'YOU', 'CAME', 'TO', 'THE', 'WRONG', 'ADDRESS', 'YOU', 'SHOULD', 'GO', 'TO', 'AMERICA', 'THATRT', 'MishraSandy29', 'ShivAroor', 'Caught', 'Finally..', 'possible', 'reasone', 'behind', 'sonic', 'boom', 'type', 'noise', 'bangalore', 'bengaluru', 'idRT', 'Atheist_Krishna', 'I', 'think', 'everyone', 'safe', 'Bangalore', 'harshhhhh_s', 'OG', 'memers', 'copycat', 'memers', 'like', 'sonic', 'boom', 'alien', 'sound', 'Copy', 'krne', 'wale', 'jyada', 'famous', 'hain', 'Aliens', 'sonicRT', 'AbbiePillai', 'Hey', 'Bangalore', 'Folks', 'Any', 'job', 'open', 'BD/Sales', 'profile', 'Have', 'Four', 'years', 'work', 'experience.RT', 'Khaja_Nazeer007', 'SHOCKING', 'Loud', 'BOOM', 'noise', 'hear', 'Bangalore', 'Again', 'earthquake', 'sonicboom', 'Bangalore', 'bangaloresound', 'BOOM', 'TheRT', 'MehamoodShaik', 'OMG', 'Did', 'U', 'hear', 'sound', 'It', \"'s\", 'horrible', 'Bangalore', 'SoundCloud', 'Aliens', 'Khaja_Nazeer007', 'SHOCKING', 'Loud', 'BOOM', 'noise', 'hear', 'Bangalore', 'Again', 'earthquake', 'sonicboom', 'Bangalore', 'bangaloresound', 'BOOM', 'TheRT', 'Atheist_Krishna', 'Nobody', 'know', 'happen', 'Bangalore', 'This', 'theory', 'Aliens', 'come', 'see', 'IPL', 'match', 'amp', \"n't\", 'see', 'anyRT', 'raginidwivedi24', 'RDWELFARE', 'AND', 'ishafoundation', 'bless', 'SadhguruJV', 'ji', 'ration', 'kit', 'distribution', 'daily', 'wage', 'workersRT', 'ani_royal007', 'Bangalore', 'Bangalore', 'Covid_19', 'People', 'house', 'due', 'blast', 'sound', 'Le', '-Corona', 'Virus', 'RT', 'thememerliki', 'Bangalore', 'alien', 'If', 'Aliens', 'land', 'bangalore', 'Me', 'I', 'THINK', 'YOU', 'CAME', 'TO', 'THE', 'WRONG', 'ADDRESS', 'YOU', 'SHOULD', 'GO', 'TO', 'AMERICA', 'THATOkay', 'Bangalore', 'Same', 'kind', 'Boom', 'sound', 'Gwalior', 'MP', 'around', '8:45', 'PM', 'Not', 'yet', 'official', 'Khaja_Nazeer007', 'SHOCKING', 'Loud', 'BOOM', 'noise', 'hear', 'Bangalore', 'Again', 'earthquake', 'sonicboom', 'Bangalore', 'bangaloresound', 'BOOM', 'The', 'Aliens', 'Bangalore', 'spot', 'watercolouronpaper', 'shefali1008', 'India', 'UAE', 'always', 'respect', 'love', 'They', 'share', 'high', 'moral', 'value', 'Watch', 'Sheikh', 'Saying', 'Jai', 'Siya', 'RamRT', 'KeKrishnan', 'Bengaluru', 'Heard', 'big', 'boom', 'sound', 'Still', 'clear', 'sound', 'come', 'darksideofthering', 'BREAK_THE_SILENRT', '23khyati', 'That', 'sound', 'hear', 'Do', \"n't\", 'worry', '2020', 'burp', 'eat', 'almost', 'half', 'year', 'BangaloreRT', 'rameshsrivats', 'Bangalore', 'get', 'loud', 'Bang', 'Now', 'Dhanbad', 'wait', 'Dhan', 'Chandigarh', 'Chandi', 'Amritsar', 'Amrit', 'And', 'Lucknow', 'sRT', 'ani_royal007', 'Bangalore', 'Aliens', 'Bangalore', 'Meanwhile', 'Indians', 'Atheist_Krishna', 'I', 'think', 'everyone', 'safe', 'Bangalore', 'Itslokesh__', 'That', 'sound', 'hear', 'Do', \"n't\", 'worry', '2020', 'burp', 'eat', 'almost', 'half', 'year', 'earthquake', 'baRT', 'Khaja_Nazeer007', 'SHOCKING', 'Loud', 'BOOM', 'noise', 'hear', 'Bangalore', 'Again', 'earthquake', 'sonicboom', 'Bangalore', 'bangaloresound', 'BOOM', 'TheRT', 'BurriJeevan007', 'SHOCKING', 'Loud', 'BOOM', 'noise', 'hear', 'Bangalore', 'Again', 'earthquake', 'sonicboom', 'Bangalore', 'bangaloresound', 'BOOM', 'TheVoRT', 'Atheist_Krishna', 'Nobody', 'know', 'happen', 'Bangalore', 'This', 'theory', 'Aliens', 'come', 'see', 'IPL', 'match', 'amp', \"n't\", 'see', 'anyRT', 'NewIndianXpress', 'Was', 'plane', 'An', 'earthquake', 'Was', 'alien', 'The', 'boom', 'rattle', 'Bengaluru', 'pique', 'nation', 'Hear', 'AlsRT', 'Atheist_Krishna', 'Nobody', 'know', 'happen', 'Bangalore', 'This', 'theory', 'Aliens', 'come', 'see', 'IPL', 'match', 'amp', \"n't\", 'see', 'anyRT', 'KeKrishnan', 'Bengaluru', 'Heard', 'big', 'boom', 'sound', 'Still', 'clear', 'sound', 'come', 'darksideofthering', 'BREAK_THE_SILENRT', 'AbbiePillai', 'Hey', 'Bangalore', 'Folks', 'Any', 'job', 'open', 'BD/Sales', 'profile', 'Have', 'Four', 'years', 'work', 'experience.RT', 'ani_royal007', 'Bangalore', 'Aliens', 'Bangalore', 'People', 'come', 'house', 'cause', 'sonicboom', 'Humans', 'talk', 'Ali', 'earthquake', 'bangaloreboom', 'bangaloresound', 'earthquake', 'Aliens', 'Bangalore', 'Is', 'reason', 'NewIndianXpress', 'Was', 'plane', 'An', 'earthquake', 'Was', 'alien', 'The', 'boom', 'rattle', 'Bengaluru', 'pique', 'nation', 'Hear', 'AlsRT', 'hu_wahi', 'After', 'Police', 'Now', 'Airforce', 'Army', 'Scaring', 'Shit', 'Bangalorian', 'Lockdown', 'bangaloreboom', 'Bangalore', 'RT', 'NewIndianXpress', 'Was', 'plane', 'An', 'earthquake', 'Was', 'alien', 'The', 'boom', 'rattle', 'Bengaluru', 'pique', 'nation', 'Hear', 'AlsRT', 'ani_royal007', 'Bangalore', 'Bangalore', 'Covid_19', 'People', 'house', 'due', 'blast', 'sound', 'Le', '-Corona', 'Virus', 'RT', 'MehamoodShaik', 'OMG', 'Did', 'U', 'hear', 'sound', 'It', \"'s\", 'horrible', 'Bangalore', 'SoundCloud', 'Aliens', 'piyushthakur__', 'Peoples', 'banglore', 'hear', 'strange', 'sound-', 'bangaloreboom', 'Bangalore', 'Atheist_Krishna', 'Nobody', 'know', 'happen', 'Bangalore', 'This', 'theory', 'Aliens', 'come', 'see', 'IPL', 'match', 'amp', \"n't\", 'see', 'anyRT', 'theobstinatekid', 'Someone', 'Bangalore', 'earthquake', 'bangaloreboom', 'ignsatyavachan', 'Do', \"n't\", 'Worry', 'Bangalore', 'alien', 'return', 'ball', 'Dhoni', 'smash', 'stadium', 'Bangalore', 'Bengaluru', 'baRT', 'ratchetrxchel', 'Meanwhile', 'Bangalore', 'Khaja_Nazeer007', 'SHOCKING', 'Loud', 'BOOM', 'noise', 'hear', 'Bangalore', 'Again', 'earthquake', 'sonicboom', 'Bangalore', 'bangaloresound', 'BOOM', 'TheRT', 'Atheist_Krishna', 'Nobody', 'know', 'happen', 'Bangalore', 'This', 'theory', 'Aliens', 'come', 'see', 'IPL', 'match', 'amp', \"n't\", 'see', 'anyRT', 'vkjpandey', 'That', 'sound', 'hear', 'Do', \"n't\", 'worry', '2020', 'burp', 'eat', 'almost', 'half', 'year', 'earthquake', 'bangalorRT', 'rameshsrivats', 'Bangalore', 'get', 'loud', 'Bang', 'Now', 'Dhanbad', 'wait', 'Dhan', 'Chandigarh', 'Chandi', 'Amritsar', 'Amrit', 'And', 'Lucknow', 'sRT', 'Pagal_aurat', 'Dad', \"'s\", 'sneeze', 'louder', 'Sonic', 'boom', 'BangaloreRT', 'NewIndianXpress', 'Was', 'plane', 'An', 'earthquake', 'Was', 'alien', 'The', 'boom', 'rattle', 'Bengaluru', 'pique', 'nation', 'Hear', 'AlsRT', 'Khaja_Nazeer007', 'SHOCKING', 'Loud', 'BOOM', 'noise', 'hear', 'Bangalore', 'Again', 'earthquake', 'sonicboom', 'Bangalore', 'bangaloresound', 'BOOM', 'TheRT', 'Khaja_Nazeer007', 'SHOCKING', 'Loud', 'BOOM', 'noise', 'hear', 'Bangalore', 'Again', 'earthquake', 'sonicboom', 'Bangalore', 'bangaloresound', 'BOOM', 'TheRT', 'Atheist_Krishna', 'Nobody', 'know', 'happen', 'Bangalore', 'This', 'theory', 'Aliens', 'come', 'see', 'IPL', 'match', 'amp', \"n't\", 'see', 'anyRT', 'beingbbt', 'Natural', 'Disaster', 'Management', 'say', 'happen', 'due', 'vaccum', 'hot', 'cold', 'air', 'storm', 'condition', 'SadlRT', 'Khaja_Nazeer007', 'SHOCKING', 'Loud', 'BOOM', 'noise', 'hear', 'Bangalore', 'Again', 'earthquake', 'sonicboom', 'Bangalore', 'bangaloresound', 'BOOM', 'TheRT', 'shefali1008', 'India', 'UAE', 'always', 'respect', 'love', 'They', 'share', 'high', 'moral', 'value', 'Watch', 'Sheikh', 'Saying', 'Jai', 'Siya', 'RamRT', 'raginidwivedi24', 'RDWELFARE', 'AND', 'ishafoundation', 'bless', 'SadhguruJV', 'ji', 'ration', 'kit', 'distribution', 'daily', 'wage', 'workersRT', 'BloodAid', 'Bengaluru', 'Bangalore', 'Emergency', 'Need', '6', 'units', 'A+', 'blood', 'Dengue', 'fighter', 'Apollo', 'Hospital', 'Sheshadripuram', 'Call', '7892276700RT', 'ItzAravind06', 'What', \"'s\", 'happen', 'Bangalore', 'Bengaluru', 'Bangalore', 'hello_saitan', 'Did', 'hear', 'super', 'Sonic', 'Sonic', 'sound', 'Banglore', 'people', \"'s\", 'Bangalore', 'VinodTh82773887', 'People', 'come', 'house', 'due', 'blast', 'sound', 'Bangalore', 'Bangalore', 'sound', 'hear', 'Do', \"n't\", 'worry', 'nd', 'chill', 'bad', 'year..', '2020', 'belch', 'vkjpandey', 'That', 'sound', 'hear', 'Do', \"n't\", 'worry', '2020', 'burp', 'eat', 'almost', 'half', 'year', 'earthquake', 'bangalorRT', 'rajasbelsare', 'Did', 'Bangalore', 'vkjpandey', 'That', 'sound', 'hear', 'Do', \"n't\", 'worry', '2020', 'burp', 'eat', 'almost', 'half', 'year', 'earthquake', 'bangalorRT', 'susheelwomaniya', 'Loud', 'boom', 'hear', 'Bangalore', 'today', 'Welcome', 'next', 'level', 'Jumanji.RT', 'Incivilee', 'niteshsolanky', 'So', \"'s\", 'wht', 'happend', 'bangaloreboom', 'Bangalore', 'Aliens', 'Neeraj_Sharma_', 'That', 'likely', 'big', 'sonic', 'boom', 'Shaking', 'build', 'windows', 'Shock', 'around', '20', 'minutes', 'ago', 'Later', 'I', 'see', 'andRT', 'KritikaKathuria', 'I', 'hope', 'everybody', \"'s\", 'safe', 'Bangalore', 'AmphanSuperCycloneRT', 'NewIndianXpress', 'Was', 'plane', 'An', 'earthquake', 'Was', 'alien', 'The', 'boom', 'rattle', 'Bengaluru', 'pique', 'nation', 'Hear', 'AlsRT', 'Atheist_Krishna', 'Nobody', 'know', 'happen', 'Bangalore', 'This', 'theory', 'Aliens', 'come', 'see', 'IPL', 'match', 'amp', \"n't\", 'see', 'anyRT', 'msp_011', 'Bangalore', 'Sources', 'confirm', 'No', 'Earthquake', 'No', 'Mirage', '2000', 'No', 'Cyclone', 'No', 'Dinosaur', 'Le', '2020', 'Bengaluru', 'People', 'https', '/RT', 'ajay592yadav', 'That', 'sound', 'hear', 'Do', \"n't\", 'worry', 'nd', 'chill', 'bad', 'year..', '2020', 'belch', 'eatinRT', 'shefali1008', 'India', 'UAE', 'always', 'respect', 'love', 'They', 'share', 'high', 'moral', 'value', 'Watch', 'Sheikh', 'Saying', 'Jai', 'Siya', 'RamRT', 'Raneassasance', 'bangaloreboom', 'Bangalore', 'The', 'Arrival', 'Bangalore', 'shefali1008', 'India', 'UAE', 'always', 'respect', 'love', 'They', 'share', 'high', 'moral', 'value', 'Watch', 'Sheikh', 'Saying', 'Jai', 'Siya', 'RamRT', 'MishraSandy29', 'ShivAroor', 'Caught', 'Finally..', 'possible', 'reasone', 'behind', 'sonic', 'boom', 'type', 'noise', 'bangalore', 'bengaluru', 'idRT', 'KeKrishnan', 'Bengaluru', 'Heard', 'big', 'boom', 'sound', 'Still', 'clear', 'sound', 'come', 'darksideofthering', 'BREAK_THE_SILENRT', 'ReeshaMishkaat', 'Bangalore', 'bangaloreboom', 'weather', 'I', \"n't\", 'know', 'kind', 'sound', 'But', 'dam', 'sure', 'good', 'sign', 'Aliens', 'bangaloreboom', 'bangaloresound', 'People', 'Bangalore', 'think', 'Alien', 'Sound', 'Meanwhile', 'Mote', 'log', 'jo', 'roz', 'MehamoodShaik', 'OMG', 'Did', 'U', 'hear', 'sound', 'It', \"'s\", 'horrible', 'Bangalore', 'SoundCloud', 'Aliens', 'NewIndianXpress', 'Was', 'plane', 'An', 'earthquake', 'Was', 'alien', 'The', 'boom', 'rattle', 'Bengaluru', 'pique', 'nation', 'Hear', 'AlsOnly', 'alien', 'Bangalorewhat', 'happen', 'Bangalore', 'This', 'theory', 'Jaadu', 'come', 'back', 'earth', 'give', 'us', 'vaccine', 'corona']\n"
          ],
          "name": "stdout"
        }
      ]
    },
    {
      "cell_type": "code",
      "metadata": {
        "id": "YSM7kR1RbLZQ",
        "colab_type": "code",
        "colab": {}
      },
      "source": [
        "# Checking frequency distribution\n",
        "from nltk import FreqDist"
      ],
      "execution_count": null,
      "outputs": []
    },
    {
      "cell_type": "code",
      "metadata": {
        "id": "J-ScNPt-bgrq",
        "colab_type": "code",
        "colab": {
          "base_uri": "https://localhost:8080/",
          "height": 357
        },
        "outputId": "0847ddfd-a3c3-4739-ba72-779160b2a206"
      },
      "source": [
        "FreqDist(filtered_tweet_tokens).most_common(20)"
      ],
      "execution_count": null,
      "outputs": [
        {
          "output_type": "execute_result",
          "data": {
            "text/plain": [
              "[('Bangalore', 87),\n",
              " ('sound', 28),\n",
              " ('hear', 27),\n",
              " ('earthquake', 27),\n",
              " ('Aliens', 26),\n",
              " ('BOOM', 22),\n",
              " (\"n't\", 18),\n",
              " ('boom', 18),\n",
              " ('see', 17),\n",
              " ('Bengaluru', 16),\n",
              " ('come', 16),\n",
              " ('Was', 14),\n",
              " ('happen', 13),\n",
              " ('2020', 13),\n",
              " ('sonicboom', 13),\n",
              " ('noise', 13),\n",
              " ('bangaloresound', 13),\n",
              " ('alien', 12),\n",
              " ('Loud', 12),\n",
              " ('The', 11)]"
            ]
          },
          "metadata": {
            "tags": []
          },
          "execution_count": 80
        }
      ]
    },
    {
      "cell_type": "code",
      "metadata": {
        "id": "xw4Qc-YpcGpM",
        "colab_type": "code",
        "colab": {
          "base_uri": "https://localhost:8080/",
          "height": 357
        },
        "outputId": "8464bdb4-2b6c-4284-c9a0-8e786ca0448c"
      },
      "source": [
        "FreqDist(filtered_news_tokens).most_common(20)"
      ],
      "execution_count": null,
      "outputs": [
        {
          "output_type": "execute_result",
          "data": {
            "text/plain": [
              "[('Bengaluru', 10),\n",
              " ('Police', 7),\n",
              " ('city', 7),\n",
              " ('say', 5),\n",
              " (\"'s\", 5),\n",
              " ('sound', 4),\n",
              " ('The', 4),\n",
              " ('Air', 4),\n",
              " ('Force', 4),\n",
              " ('fighter', 4),\n",
              " ('area', 4),\n",
              " ('across', 4),\n",
              " ('aircraft', 4),\n",
              " ('loud', 3),\n",
              " ('earthquake', 3),\n",
              " ('News', 3),\n",
              " ('Indian', 3),\n",
              " ('ask', 3),\n",
              " ('jet', 3),\n",
              " ('movement', 3)]"
            ]
          },
          "metadata": {
            "tags": []
          },
          "execution_count": 81
        }
      ]
    },
    {
      "cell_type": "markdown",
      "metadata": {
        "id": "HIUkbbNhM9hp",
        "colab_type": "text"
      },
      "source": [
        "## Checking the similarity between tweets and news to check the authenticity"
      ]
    },
    {
      "cell_type": "code",
      "metadata": {
        "id": "Ce4Hjda8fedK",
        "colab_type": "code",
        "colab": {}
      },
      "source": [
        "# Checking for similarity using Jaccard index\n",
        "def jaccard_similarity(list1, list2):\n",
        "    intersection = len(list(set(list1).intersection(list2)))\n",
        "    union = (len(list1) + len(list2)) - intersection\n",
        "    return float(intersection) / union"
      ],
      "execution_count": null,
      "outputs": []
    },
    {
      "cell_type": "code",
      "metadata": {
        "id": "chZQg4SShbZd",
        "colab_type": "code",
        "colab": {
          "base_uri": "https://localhost:8080/",
          "height": 34
        },
        "outputId": "f4ca0b20-cb38-4d3e-f308-907ed2684ad0"
      },
      "source": [
        "jaccard_score = jaccard_similarity(filtered_tweet_tokens,filtered_news_tokens)\n",
        "print('Jaccard similarity score between the news and tweets : ',jaccard_score)"
      ],
      "execution_count": null,
      "outputs": [
        {
          "output_type": "stream",
          "text": [
            "Jaccard similarity score between the news and tweets :  0.026604973973395025\n"
          ],
          "name": "stdout"
        }
      ]
    },
    {
      "cell_type": "code",
      "metadata": {
        "id": "iKjttd6Nhud7",
        "colab_type": "code",
        "colab": {
          "base_uri": "https://localhost:8080/",
          "height": 581
        },
        "outputId": "9c50e55f-e13c-4068-998e-779893ab4499"
      },
      "source": [
        "import spacy\n",
        "!python -m spacy download en_core_web_md"
      ],
      "execution_count": null,
      "outputs": [
        {
          "output_type": "stream",
          "text": [
            "Collecting en_core_web_md==2.2.5\n",
            "\u001b[?25l  Downloading https://github.com/explosion/spacy-models/releases/download/en_core_web_md-2.2.5/en_core_web_md-2.2.5.tar.gz (96.4MB)\n",
            "\u001b[K     |████████████████████████████████| 96.4MB 81.6MB/s \n",
            "\u001b[?25hRequirement already satisfied: spacy>=2.2.2 in /usr/local/lib/python3.6/dist-packages (from en_core_web_md==2.2.5) (2.2.4)\n",
            "Requirement already satisfied: wasabi<1.1.0,>=0.4.0 in /usr/local/lib/python3.6/dist-packages (from spacy>=2.2.2->en_core_web_md==2.2.5) (0.6.0)\n",
            "Requirement already satisfied: tqdm<5.0.0,>=4.38.0 in /usr/local/lib/python3.6/dist-packages (from spacy>=2.2.2->en_core_web_md==2.2.5) (4.41.1)\n",
            "Requirement already satisfied: numpy>=1.15.0 in /usr/local/lib/python3.6/dist-packages (from spacy>=2.2.2->en_core_web_md==2.2.5) (1.18.4)\n",
            "Requirement already satisfied: cymem<2.1.0,>=2.0.2 in /usr/local/lib/python3.6/dist-packages (from spacy>=2.2.2->en_core_web_md==2.2.5) (2.0.3)\n",
            "Requirement already satisfied: preshed<3.1.0,>=3.0.2 in /usr/local/lib/python3.6/dist-packages (from spacy>=2.2.2->en_core_web_md==2.2.5) (3.0.2)\n",
            "Requirement already satisfied: srsly<1.1.0,>=1.0.2 in /usr/local/lib/python3.6/dist-packages (from spacy>=2.2.2->en_core_web_md==2.2.5) (1.0.2)\n",
            "Requirement already satisfied: thinc==7.4.0 in /usr/local/lib/python3.6/dist-packages (from spacy>=2.2.2->en_core_web_md==2.2.5) (7.4.0)\n",
            "Requirement already satisfied: setuptools in /usr/local/lib/python3.6/dist-packages (from spacy>=2.2.2->en_core_web_md==2.2.5) (46.3.0)\n",
            "Requirement already satisfied: plac<1.2.0,>=0.9.6 in /usr/local/lib/python3.6/dist-packages (from spacy>=2.2.2->en_core_web_md==2.2.5) (1.1.3)\n",
            "Requirement already satisfied: catalogue<1.1.0,>=0.0.7 in /usr/local/lib/python3.6/dist-packages (from spacy>=2.2.2->en_core_web_md==2.2.5) (1.0.0)\n",
            "Requirement already satisfied: requests<3.0.0,>=2.13.0 in /usr/local/lib/python3.6/dist-packages (from spacy>=2.2.2->en_core_web_md==2.2.5) (2.23.0)\n",
            "Requirement already satisfied: blis<0.5.0,>=0.4.0 in /usr/local/lib/python3.6/dist-packages (from spacy>=2.2.2->en_core_web_md==2.2.5) (0.4.1)\n",
            "Requirement already satisfied: murmurhash<1.1.0,>=0.28.0 in /usr/local/lib/python3.6/dist-packages (from spacy>=2.2.2->en_core_web_md==2.2.5) (1.0.2)\n",
            "Requirement already satisfied: importlib-metadata>=0.20; python_version < \"3.8\" in /usr/local/lib/python3.6/dist-packages (from catalogue<1.1.0,>=0.0.7->spacy>=2.2.2->en_core_web_md==2.2.5) (1.6.0)\n",
            "Requirement already satisfied: certifi>=2017.4.17 in /usr/local/lib/python3.6/dist-packages (from requests<3.0.0,>=2.13.0->spacy>=2.2.2->en_core_web_md==2.2.5) (2020.4.5.1)\n",
            "Requirement already satisfied: chardet<4,>=3.0.2 in /usr/local/lib/python3.6/dist-packages (from requests<3.0.0,>=2.13.0->spacy>=2.2.2->en_core_web_md==2.2.5) (3.0.4)\n",
            "Requirement already satisfied: idna<3,>=2.5 in /usr/local/lib/python3.6/dist-packages (from requests<3.0.0,>=2.13.0->spacy>=2.2.2->en_core_web_md==2.2.5) (2.9)\n",
            "Requirement already satisfied: urllib3!=1.25.0,!=1.25.1,<1.26,>=1.21.1 in /usr/local/lib/python3.6/dist-packages (from requests<3.0.0,>=2.13.0->spacy>=2.2.2->en_core_web_md==2.2.5) (1.24.3)\n",
            "Requirement already satisfied: zipp>=0.5 in /usr/local/lib/python3.6/dist-packages (from importlib-metadata>=0.20; python_version < \"3.8\"->catalogue<1.1.0,>=0.0.7->spacy>=2.2.2->en_core_web_md==2.2.5) (3.1.0)\n",
            "Building wheels for collected packages: en-core-web-md\n",
            "  Building wheel for en-core-web-md (setup.py) ... \u001b[?25l\u001b[?25hdone\n",
            "  Created wheel for en-core-web-md: filename=en_core_web_md-2.2.5-cp36-none-any.whl size=98051305 sha256=91df1db9b5830abfa6c733aa1126566c70344e2deb5895724aa8ac00b123bee7\n",
            "  Stored in directory: /tmp/pip-ephem-wheel-cache-qggsug3x/wheels/df/94/ad/f5cf59224cea6b5686ac4fd1ad19c8a07bc026e13c36502d81\n",
            "Successfully built en-core-web-md\n",
            "Installing collected packages: en-core-web-md\n",
            "Successfully installed en-core-web-md-2.2.5\n",
            "\u001b[38;5;2m✔ Download and installation successful\u001b[0m\n",
            "You can now load the model via spacy.load('en_core_web_md')\n"
          ],
          "name": "stdout"
        }
      ]
    },
    {
      "cell_type": "code",
      "metadata": {
        "id": "U6skHn3FQSvg",
        "colab_type": "code",
        "colab": {}
      },
      "source": [
        "import spacy\n",
        "import en_vectors_web_lg\n",
        "nlp = en_vectors_web_lg.load()"
      ],
      "execution_count": null,
      "outputs": []
    },
    {
      "cell_type": "code",
      "metadata": {
        "id": "nXPDapgJXPZw",
        "colab_type": "code",
        "colab": {
          "base_uri": "https://localhost:8080/",
          "height": 34
        },
        "outputId": "b05bc251-0f00-4809-abf4-d597c415fffd"
      },
      "source": [
        "# Spacy similarity\n",
        "#spacy_obj = spacy.load('en')\n",
        "tweets = nlp(tweets_str)\n",
        "news = nlp(news_str)\n",
        "\n",
        "similarity = round(tweets.similarity(news)*100,2)\n",
        "#for token in tokens:\n",
        "#    print(token.text, token.has_vector, token.vector_norm, token.is_oov)\n",
        "\n",
        "if similarity < 80 :\n",
        "  print(\"The news is fake as per the analysis of {} tweets and {} News articles\".format(len(src_tweets.split('\\n')),len(express_news.split('\\n'))))\n",
        "else:\n",
        "  print(\"The news is {}% Authentic as per the analysis of {} tweets and {} News articles\".format(similarity,len(src_tweets.split('\\n')),len(express_news.split('\\n'))))"
      ],
      "execution_count": null,
      "outputs": [
        {
          "output_type": "stream",
          "text": [
            "The news is 94.6% Authentic as per the analysis of 147 tweets and 35 News articles\n"
          ],
          "name": "stdout"
        }
      ]
    },
    {
      "cell_type": "code",
      "metadata": {
        "id": "7Mb8xhS6xrNo",
        "colab_type": "code",
        "colab": {}
      },
      "source": [
        ""
      ],
      "execution_count": null,
      "outputs": []
    }
  ]
}